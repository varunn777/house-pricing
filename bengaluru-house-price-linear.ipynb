{
 "cells": [
  {
   "cell_type": "code",
   "execution_count": 1,
   "id": "583d7985",
   "metadata": {
    "execution": {
     "iopub.execute_input": "2022-12-14T05:39:48.974972Z",
     "iopub.status.busy": "2022-12-14T05:39:48.974088Z",
     "iopub.status.idle": "2022-12-14T05:39:48.986138Z",
     "shell.execute_reply": "2022-12-14T05:39:48.984212Z"
    },
    "papermill": {
     "duration": 0.036929,
     "end_time": "2022-12-14T05:39:48.989280",
     "exception": false,
     "start_time": "2022-12-14T05:39:48.952351",
     "status": "completed"
    },
    "tags": []
   },
   "outputs": [],
   "source": [
    "import numpy as np\n",
    "import pandas as pd"
   ]
  },
  {
   "cell_type": "code",
   "execution_count": 2,
   "id": "f9d906cf",
   "metadata": {
    "execution": {
     "iopub.execute_input": "2022-12-14T05:39:49.023311Z",
     "iopub.status.busy": "2022-12-14T05:39:49.022856Z",
     "iopub.status.idle": "2022-12-14T05:39:49.080210Z",
     "shell.execute_reply": "2022-12-14T05:39:49.078719Z"
    },
    "papermill": {
     "duration": 0.077525,
     "end_time": "2022-12-14T05:39:49.083100",
     "exception": false,
     "start_time": "2022-12-14T05:39:49.005575",
     "status": "completed"
    },
    "tags": []
   },
   "outputs": [],
   "source": [
    "data = pd.read_csv('/kaggle/input/bengaluru-house-pricing-linear/Bengaluru_House_Data.csv')"
   ]
  },
  {
   "cell_type": "code",
   "execution_count": 3,
   "id": "1724d633",
   "metadata": {
    "execution": {
     "iopub.execute_input": "2022-12-14T05:39:49.119539Z",
     "iopub.status.busy": "2022-12-14T05:39:49.119085Z",
     "iopub.status.idle": "2022-12-14T05:39:49.153090Z",
     "shell.execute_reply": "2022-12-14T05:39:49.151525Z"
    },
    "papermill": {
     "duration": 0.056166,
     "end_time": "2022-12-14T05:39:49.155727",
     "exception": false,
     "start_time": "2022-12-14T05:39:49.099561",
     "status": "completed"
    },
    "tags": []
   },
   "outputs": [
    {
     "data": {
      "text/html": [
       "<div>\n",
       "<style scoped>\n",
       "    .dataframe tbody tr th:only-of-type {\n",
       "        vertical-align: middle;\n",
       "    }\n",
       "\n",
       "    .dataframe tbody tr th {\n",
       "        vertical-align: top;\n",
       "    }\n",
       "\n",
       "    .dataframe thead th {\n",
       "        text-align: right;\n",
       "    }\n",
       "</style>\n",
       "<table border=\"1\" class=\"dataframe\">\n",
       "  <thead>\n",
       "    <tr style=\"text-align: right;\">\n",
       "      <th></th>\n",
       "      <th>area_type</th>\n",
       "      <th>availability</th>\n",
       "      <th>location</th>\n",
       "      <th>size</th>\n",
       "      <th>society</th>\n",
       "      <th>total_sqft</th>\n",
       "      <th>bath</th>\n",
       "      <th>balcony</th>\n",
       "      <th>price</th>\n",
       "    </tr>\n",
       "  </thead>\n",
       "  <tbody>\n",
       "    <tr>\n",
       "      <th>0</th>\n",
       "      <td>Super built-up  Area</td>\n",
       "      <td>19-Dec</td>\n",
       "      <td>Electronic City Phase II</td>\n",
       "      <td>2 BHK</td>\n",
       "      <td>Coomee</td>\n",
       "      <td>1056</td>\n",
       "      <td>2.0</td>\n",
       "      <td>1.0</td>\n",
       "      <td>39.07</td>\n",
       "    </tr>\n",
       "    <tr>\n",
       "      <th>1</th>\n",
       "      <td>Plot  Area</td>\n",
       "      <td>Ready To Move</td>\n",
       "      <td>Chikka Tirupathi</td>\n",
       "      <td>4 Bedroom</td>\n",
       "      <td>Theanmp</td>\n",
       "      <td>2600</td>\n",
       "      <td>5.0</td>\n",
       "      <td>3.0</td>\n",
       "      <td>120.00</td>\n",
       "    </tr>\n",
       "    <tr>\n",
       "      <th>2</th>\n",
       "      <td>Built-up  Area</td>\n",
       "      <td>Ready To Move</td>\n",
       "      <td>Uttarahalli</td>\n",
       "      <td>3 BHK</td>\n",
       "      <td>NaN</td>\n",
       "      <td>1440</td>\n",
       "      <td>2.0</td>\n",
       "      <td>3.0</td>\n",
       "      <td>62.00</td>\n",
       "    </tr>\n",
       "  </tbody>\n",
       "</table>\n",
       "</div>"
      ],
      "text/plain": [
       "              area_type   availability                  location       size  \\\n",
       "0  Super built-up  Area         19-Dec  Electronic City Phase II      2 BHK   \n",
       "1            Plot  Area  Ready To Move          Chikka Tirupathi  4 Bedroom   \n",
       "2        Built-up  Area  Ready To Move               Uttarahalli      3 BHK   \n",
       "\n",
       "   society total_sqft  bath  balcony   price  \n",
       "0  Coomee        1056   2.0      1.0   39.07  \n",
       "1  Theanmp       2600   5.0      3.0  120.00  \n",
       "2      NaN       1440   2.0      3.0   62.00  "
      ]
     },
     "execution_count": 3,
     "metadata": {},
     "output_type": "execute_result"
    }
   ],
   "source": [
    "data.head(3)"
   ]
  },
  {
   "cell_type": "code",
   "execution_count": 4,
   "id": "fa113ab2",
   "metadata": {
    "execution": {
     "iopub.execute_input": "2022-12-14T05:39:49.191634Z",
     "iopub.status.busy": "2022-12-14T05:39:49.191197Z",
     "iopub.status.idle": "2022-12-14T05:39:49.198572Z",
     "shell.execute_reply": "2022-12-14T05:39:49.197649Z"
    },
    "papermill": {
     "duration": 0.027721,
     "end_time": "2022-12-14T05:39:49.200789",
     "exception": false,
     "start_time": "2022-12-14T05:39:49.173068",
     "status": "completed"
    },
    "tags": []
   },
   "outputs": [
    {
     "data": {
      "text/plain": [
       "(13320, 9)"
      ]
     },
     "execution_count": 4,
     "metadata": {},
     "output_type": "execute_result"
    }
   ],
   "source": [
    "data.shape"
   ]
  },
  {
   "cell_type": "code",
   "execution_count": 5,
   "id": "9adc8f2c",
   "metadata": {
    "execution": {
     "iopub.execute_input": "2022-12-14T05:39:49.235265Z",
     "iopub.status.busy": "2022-12-14T05:39:49.234574Z",
     "iopub.status.idle": "2022-12-14T05:39:49.265160Z",
     "shell.execute_reply": "2022-12-14T05:39:49.263233Z"
    },
    "papermill": {
     "duration": 0.0515,
     "end_time": "2022-12-14T05:39:49.268436",
     "exception": false,
     "start_time": "2022-12-14T05:39:49.216936",
     "status": "completed"
    },
    "tags": []
   },
   "outputs": [
    {
     "name": "stdout",
     "output_type": "stream",
     "text": [
      "<class 'pandas.core.frame.DataFrame'>\n",
      "RangeIndex: 13320 entries, 0 to 13319\n",
      "Data columns (total 9 columns):\n",
      " #   Column        Non-Null Count  Dtype  \n",
      "---  ------        --------------  -----  \n",
      " 0   area_type     13320 non-null  object \n",
      " 1   availability  13320 non-null  object \n",
      " 2   location      13319 non-null  object \n",
      " 3   size          13304 non-null  object \n",
      " 4   society       7818 non-null   object \n",
      " 5   total_sqft    13320 non-null  object \n",
      " 6   bath          13247 non-null  float64\n",
      " 7   balcony       12711 non-null  float64\n",
      " 8   price         13320 non-null  float64\n",
      "dtypes: float64(3), object(6)\n",
      "memory usage: 936.7+ KB\n"
     ]
    }
   ],
   "source": [
    "data.info()"
   ]
  },
  {
   "cell_type": "code",
   "execution_count": 6,
   "id": "3b632cd0",
   "metadata": {
    "execution": {
     "iopub.execute_input": "2022-12-14T05:39:49.307886Z",
     "iopub.status.busy": "2022-12-14T05:39:49.306188Z",
     "iopub.status.idle": "2022-12-14T05:39:49.347315Z",
     "shell.execute_reply": "2022-12-14T05:39:49.345872Z"
    },
    "papermill": {
     "duration": 0.067351,
     "end_time": "2022-12-14T05:39:49.353572",
     "exception": false,
     "start_time": "2022-12-14T05:39:49.286221",
     "status": "completed"
    },
    "tags": []
   },
   "outputs": [
    {
     "name": "stdout",
     "output_type": "stream",
     "text": [
      "Super built-up  Area    8790\n",
      "Built-up  Area          2418\n",
      "Plot  Area              2025\n",
      "Carpet  Area              87\n",
      "Name: area_type, dtype: int64\n",
      "**************************************************\n",
      "Ready To Move    10581\n",
      "18-Dec             307\n",
      "18-May             295\n",
      "18-Apr             271\n",
      "18-Aug             200\n",
      "                 ...  \n",
      "15-Aug               1\n",
      "17-Jan               1\n",
      "16-Nov               1\n",
      "16-Jan               1\n",
      "14-Jul               1\n",
      "Name: availability, Length: 81, dtype: int64\n",
      "**************************************************\n",
      "Whitefield                        540\n",
      "Sarjapur  Road                    399\n",
      "Electronic City                   302\n",
      "Kanakpura Road                    273\n",
      "Thanisandra                       234\n",
      "                                 ... \n",
      "Bapuji Layout                       1\n",
      "1st Stage Radha Krishna Layout      1\n",
      "BEML Layout 5th stage               1\n",
      "singapura paradise                  1\n",
      "Abshot Layout                       1\n",
      "Name: location, Length: 1305, dtype: int64\n",
      "**************************************************\n",
      "2 BHK         5199\n",
      "3 BHK         4310\n",
      "4 Bedroom      826\n",
      "4 BHK          591\n",
      "3 Bedroom      547\n",
      "1 BHK          538\n",
      "2 Bedroom      329\n",
      "5 Bedroom      297\n",
      "6 Bedroom      191\n",
      "1 Bedroom      105\n",
      "8 Bedroom       84\n",
      "7 Bedroom       83\n",
      "5 BHK           59\n",
      "9 Bedroom       46\n",
      "6 BHK           30\n",
      "7 BHK           17\n",
      "1 RK            13\n",
      "10 Bedroom      12\n",
      "9 BHK            8\n",
      "8 BHK            5\n",
      "11 BHK           2\n",
      "11 Bedroom       2\n",
      "10 BHK           2\n",
      "14 BHK           1\n",
      "13 BHK           1\n",
      "12 Bedroom       1\n",
      "27 BHK           1\n",
      "43 Bedroom       1\n",
      "16 BHK           1\n",
      "19 BHK           1\n",
      "18 Bedroom       1\n",
      "Name: size, dtype: int64\n",
      "**************************************************\n",
      "GrrvaGr    80\n",
      "PrarePa    76\n",
      "Sryalan    59\n",
      "Prtates    59\n",
      "GMown E    56\n",
      "           ..\n",
      "Amionce     1\n",
      "JaghtDe     1\n",
      "Jauraht     1\n",
      "Brity U     1\n",
      "RSntsAp     1\n",
      "Name: society, Length: 2688, dtype: int64\n",
      "**************************************************\n",
      "1200    843\n",
      "1100    221\n",
      "1500    205\n",
      "2400    196\n",
      "600     180\n",
      "       ... \n",
      "3580      1\n",
      "2461      1\n",
      "1437      1\n",
      "2155      1\n",
      "4689      1\n",
      "Name: total_sqft, Length: 2117, dtype: int64\n",
      "**************************************************\n",
      "2.0     6908\n",
      "3.0     3286\n",
      "4.0     1226\n",
      "1.0      788\n",
      "5.0      524\n",
      "6.0      273\n",
      "7.0      102\n",
      "8.0       64\n",
      "9.0       43\n",
      "10.0      13\n",
      "12.0       7\n",
      "13.0       3\n",
      "11.0       3\n",
      "16.0       2\n",
      "27.0       1\n",
      "40.0       1\n",
      "15.0       1\n",
      "14.0       1\n",
      "18.0       1\n",
      "Name: bath, dtype: int64\n",
      "**************************************************\n",
      "2.0    5113\n",
      "1.0    4897\n",
      "3.0    1672\n",
      "0.0    1029\n",
      "Name: balcony, dtype: int64\n",
      "**************************************************\n",
      "75.00     310\n",
      "65.00     302\n",
      "55.00     275\n",
      "60.00     270\n",
      "45.00     240\n",
      "         ... \n",
      "351.00      1\n",
      "54.10       1\n",
      "80.64       1\n",
      "32.73       1\n",
      "488.00      1\n",
      "Name: price, Length: 1994, dtype: int64\n",
      "**************************************************\n"
     ]
    }
   ],
   "source": [
    "for column in data.columns:\n",
    "    print(data[column].value_counts())\n",
    "    print(\"*\"*50)"
   ]
  },
  {
   "cell_type": "code",
   "execution_count": 7,
   "id": "c2fd6ae8",
   "metadata": {
    "execution": {
     "iopub.execute_input": "2022-12-14T05:39:49.393223Z",
     "iopub.status.busy": "2022-12-14T05:39:49.392510Z",
     "iopub.status.idle": "2022-12-14T05:39:49.407177Z",
     "shell.execute_reply": "2022-12-14T05:39:49.405534Z"
    },
    "papermill": {
     "duration": 0.036659,
     "end_time": "2022-12-14T05:39:49.410306",
     "exception": false,
     "start_time": "2022-12-14T05:39:49.373647",
     "status": "completed"
    },
    "tags": []
   },
   "outputs": [
    {
     "data": {
      "text/plain": [
       "area_type          0\n",
       "availability       0\n",
       "location           1\n",
       "size              16\n",
       "society         5502\n",
       "total_sqft         0\n",
       "bath              73\n",
       "balcony          609\n",
       "price              0\n",
       "dtype: int64"
      ]
     },
     "execution_count": 7,
     "metadata": {},
     "output_type": "execute_result"
    }
   ],
   "source": [
    "data.isnull().sum()"
   ]
  },
  {
   "cell_type": "code",
   "execution_count": 8,
   "id": "62bc129e",
   "metadata": {
    "execution": {
     "iopub.execute_input": "2022-12-14T05:39:49.445500Z",
     "iopub.status.busy": "2022-12-14T05:39:49.445099Z",
     "iopub.status.idle": "2022-12-14T05:39:49.454443Z",
     "shell.execute_reply": "2022-12-14T05:39:49.452852Z"
    },
    "papermill": {
     "duration": 0.030676,
     "end_time": "2022-12-14T05:39:49.457571",
     "exception": false,
     "start_time": "2022-12-14T05:39:49.426895",
     "status": "completed"
    },
    "tags": []
   },
   "outputs": [],
   "source": [
    "data.drop(columns=['area_type', 'availability', 'society', 'balcony'], inplace=True)"
   ]
  },
  {
   "cell_type": "code",
   "execution_count": 9,
   "id": "09aa21de",
   "metadata": {
    "execution": {
     "iopub.execute_input": "2022-12-14T05:39:49.493521Z",
     "iopub.status.busy": "2022-12-14T05:39:49.493112Z",
     "iopub.status.idle": "2022-12-14T05:39:49.516113Z",
     "shell.execute_reply": "2022-12-14T05:39:49.514585Z"
    },
    "papermill": {
     "duration": 0.04379,
     "end_time": "2022-12-14T05:39:49.518608",
     "exception": false,
     "start_time": "2022-12-14T05:39:49.474818",
     "status": "completed"
    },
    "tags": []
   },
   "outputs": [
    {
     "data": {
      "text/html": [
       "<div>\n",
       "<style scoped>\n",
       "    .dataframe tbody tr th:only-of-type {\n",
       "        vertical-align: middle;\n",
       "    }\n",
       "\n",
       "    .dataframe tbody tr th {\n",
       "        vertical-align: top;\n",
       "    }\n",
       "\n",
       "    .dataframe thead th {\n",
       "        text-align: right;\n",
       "    }\n",
       "</style>\n",
       "<table border=\"1\" class=\"dataframe\">\n",
       "  <thead>\n",
       "    <tr style=\"text-align: right;\">\n",
       "      <th></th>\n",
       "      <th>bath</th>\n",
       "      <th>price</th>\n",
       "    </tr>\n",
       "  </thead>\n",
       "  <tbody>\n",
       "    <tr>\n",
       "      <th>count</th>\n",
       "      <td>13247.000000</td>\n",
       "      <td>13320.000000</td>\n",
       "    </tr>\n",
       "    <tr>\n",
       "      <th>mean</th>\n",
       "      <td>2.692610</td>\n",
       "      <td>112.565627</td>\n",
       "    </tr>\n",
       "    <tr>\n",
       "      <th>std</th>\n",
       "      <td>1.341458</td>\n",
       "      <td>148.971674</td>\n",
       "    </tr>\n",
       "    <tr>\n",
       "      <th>min</th>\n",
       "      <td>1.000000</td>\n",
       "      <td>8.000000</td>\n",
       "    </tr>\n",
       "    <tr>\n",
       "      <th>25%</th>\n",
       "      <td>2.000000</td>\n",
       "      <td>50.000000</td>\n",
       "    </tr>\n",
       "    <tr>\n",
       "      <th>50%</th>\n",
       "      <td>2.000000</td>\n",
       "      <td>72.000000</td>\n",
       "    </tr>\n",
       "    <tr>\n",
       "      <th>75%</th>\n",
       "      <td>3.000000</td>\n",
       "      <td>120.000000</td>\n",
       "    </tr>\n",
       "    <tr>\n",
       "      <th>max</th>\n",
       "      <td>40.000000</td>\n",
       "      <td>3600.000000</td>\n",
       "    </tr>\n",
       "  </tbody>\n",
       "</table>\n",
       "</div>"
      ],
      "text/plain": [
       "               bath         price\n",
       "count  13247.000000  13320.000000\n",
       "mean       2.692610    112.565627\n",
       "std        1.341458    148.971674\n",
       "min        1.000000      8.000000\n",
       "25%        2.000000     50.000000\n",
       "50%        2.000000     72.000000\n",
       "75%        3.000000    120.000000\n",
       "max       40.000000   3600.000000"
      ]
     },
     "execution_count": 9,
     "metadata": {},
     "output_type": "execute_result"
    }
   ],
   "source": [
    "data.describe()"
   ]
  },
  {
   "cell_type": "code",
   "execution_count": 10,
   "id": "b14640c2",
   "metadata": {
    "execution": {
     "iopub.execute_input": "2022-12-14T05:39:49.554335Z",
     "iopub.status.busy": "2022-12-14T05:39:49.553852Z",
     "iopub.status.idle": "2022-12-14T05:39:49.569293Z",
     "shell.execute_reply": "2022-12-14T05:39:49.567887Z"
    },
    "papermill": {
     "duration": 0.036183,
     "end_time": "2022-12-14T05:39:49.571947",
     "exception": false,
     "start_time": "2022-12-14T05:39:49.535764",
     "status": "completed"
    },
    "tags": []
   },
   "outputs": [
    {
     "name": "stdout",
     "output_type": "stream",
     "text": [
      "<class 'pandas.core.frame.DataFrame'>\n",
      "RangeIndex: 13320 entries, 0 to 13319\n",
      "Data columns (total 5 columns):\n",
      " #   Column      Non-Null Count  Dtype  \n",
      "---  ------      --------------  -----  \n",
      " 0   location    13319 non-null  object \n",
      " 1   size        13304 non-null  object \n",
      " 2   total_sqft  13320 non-null  object \n",
      " 3   bath        13247 non-null  float64\n",
      " 4   price       13320 non-null  float64\n",
      "dtypes: float64(2), object(3)\n",
      "memory usage: 520.4+ KB\n"
     ]
    }
   ],
   "source": [
    "data.info()"
   ]
  },
  {
   "cell_type": "code",
   "execution_count": 11,
   "id": "c0f31efb",
   "metadata": {
    "execution": {
     "iopub.execute_input": "2022-12-14T05:39:49.607935Z",
     "iopub.status.busy": "2022-12-14T05:39:49.607536Z",
     "iopub.status.idle": "2022-12-14T05:39:49.620071Z",
     "shell.execute_reply": "2022-12-14T05:39:49.618807Z"
    },
    "papermill": {
     "duration": 0.033381,
     "end_time": "2022-12-14T05:39:49.622694",
     "exception": false,
     "start_time": "2022-12-14T05:39:49.589313",
     "status": "completed"
    },
    "tags": []
   },
   "outputs": [
    {
     "data": {
      "text/plain": [
       "Whitefield                        540\n",
       "Sarjapur  Road                    399\n",
       "Electronic City                   302\n",
       "Kanakpura Road                    273\n",
       "Thanisandra                       234\n",
       "                                 ... \n",
       "Bapuji Layout                       1\n",
       "1st Stage Radha Krishna Layout      1\n",
       "BEML Layout 5th stage               1\n",
       "singapura paradise                  1\n",
       "Abshot Layout                       1\n",
       "Name: location, Length: 1305, dtype: int64"
      ]
     },
     "execution_count": 11,
     "metadata": {},
     "output_type": "execute_result"
    }
   ],
   "source": [
    "data['location'].value_counts()"
   ]
  },
  {
   "cell_type": "code",
   "execution_count": 12,
   "id": "78ded932",
   "metadata": {
    "execution": {
     "iopub.execute_input": "2022-12-14T05:39:49.659228Z",
     "iopub.status.busy": "2022-12-14T05:39:49.658658Z",
     "iopub.status.idle": "2022-12-14T05:39:49.667427Z",
     "shell.execute_reply": "2022-12-14T05:39:49.665576Z"
    },
    "papermill": {
     "duration": 0.030396,
     "end_time": "2022-12-14T05:39:49.670299",
     "exception": false,
     "start_time": "2022-12-14T05:39:49.639903",
     "status": "completed"
    },
    "tags": []
   },
   "outputs": [],
   "source": [
    "data['location']=data['location'].fillna('Sarjapur  Road')"
   ]
  },
  {
   "cell_type": "code",
   "execution_count": 13,
   "id": "9b6f98fc",
   "metadata": {
    "execution": {
     "iopub.execute_input": "2022-12-14T05:39:49.718422Z",
     "iopub.status.busy": "2022-12-14T05:39:49.718016Z",
     "iopub.status.idle": "2022-12-14T05:39:49.729080Z",
     "shell.execute_reply": "2022-12-14T05:39:49.727938Z"
    },
    "papermill": {
     "duration": 0.037289,
     "end_time": "2022-12-14T05:39:49.731558",
     "exception": false,
     "start_time": "2022-12-14T05:39:49.694269",
     "status": "completed"
    },
    "tags": []
   },
   "outputs": [
    {
     "data": {
      "text/plain": [
       "2 BHK         5199\n",
       "3 BHK         4310\n",
       "4 Bedroom      826\n",
       "4 BHK          591\n",
       "3 Bedroom      547\n",
       "1 BHK          538\n",
       "2 Bedroom      329\n",
       "5 Bedroom      297\n",
       "6 Bedroom      191\n",
       "1 Bedroom      105\n",
       "8 Bedroom       84\n",
       "7 Bedroom       83\n",
       "5 BHK           59\n",
       "9 Bedroom       46\n",
       "6 BHK           30\n",
       "7 BHK           17\n",
       "1 RK            13\n",
       "10 Bedroom      12\n",
       "9 BHK            8\n",
       "8 BHK            5\n",
       "11 BHK           2\n",
       "11 Bedroom       2\n",
       "10 BHK           2\n",
       "14 BHK           1\n",
       "13 BHK           1\n",
       "12 Bedroom       1\n",
       "27 BHK           1\n",
       "43 Bedroom       1\n",
       "16 BHK           1\n",
       "19 BHK           1\n",
       "18 Bedroom       1\n",
       "Name: size, dtype: int64"
      ]
     },
     "execution_count": 13,
     "metadata": {},
     "output_type": "execute_result"
    }
   ],
   "source": [
    "data['size'].value_counts()"
   ]
  },
  {
   "cell_type": "code",
   "execution_count": 14,
   "id": "731e9493",
   "metadata": {
    "execution": {
     "iopub.execute_input": "2022-12-14T05:39:49.771175Z",
     "iopub.status.busy": "2022-12-14T05:39:49.770720Z",
     "iopub.status.idle": "2022-12-14T05:39:49.777438Z",
     "shell.execute_reply": "2022-12-14T05:39:49.776159Z"
    },
    "papermill": {
     "duration": 0.030083,
     "end_time": "2022-12-14T05:39:49.780708",
     "exception": false,
     "start_time": "2022-12-14T05:39:49.750625",
     "status": "completed"
    },
    "tags": []
   },
   "outputs": [],
   "source": [
    "data['size']=data['size'].fillna('2 BHK')"
   ]
  },
  {
   "cell_type": "code",
   "execution_count": 15,
   "id": "1bcebc5e",
   "metadata": {
    "execution": {
     "iopub.execute_input": "2022-12-14T05:39:49.819197Z",
     "iopub.status.busy": "2022-12-14T05:39:49.818740Z",
     "iopub.status.idle": "2022-12-14T05:39:49.827759Z",
     "shell.execute_reply": "2022-12-14T05:39:49.825978Z"
    },
    "papermill": {
     "duration": 0.031866,
     "end_time": "2022-12-14T05:39:49.830797",
     "exception": false,
     "start_time": "2022-12-14T05:39:49.798931",
     "status": "completed"
    },
    "tags": []
   },
   "outputs": [],
   "source": [
    "data['bath']=data['bath'].fillna(data['bath'].median())"
   ]
  },
  {
   "cell_type": "code",
   "execution_count": 16,
   "id": "2265e76c",
   "metadata": {
    "execution": {
     "iopub.execute_input": "2022-12-14T05:39:49.868876Z",
     "iopub.status.busy": "2022-12-14T05:39:49.868283Z",
     "iopub.status.idle": "2022-12-14T05:39:49.881840Z",
     "shell.execute_reply": "2022-12-14T05:39:49.880219Z"
    },
    "papermill": {
     "duration": 0.036322,
     "end_time": "2022-12-14T05:39:49.884672",
     "exception": false,
     "start_time": "2022-12-14T05:39:49.848350",
     "status": "completed"
    },
    "tags": []
   },
   "outputs": [
    {
     "data": {
      "text/plain": [
       "location      0\n",
       "size          0\n",
       "total_sqft    0\n",
       "bath          0\n",
       "price         0\n",
       "dtype: int64"
      ]
     },
     "execution_count": 16,
     "metadata": {},
     "output_type": "execute_result"
    }
   ],
   "source": [
    "data.isnull().sum()"
   ]
  },
  {
   "cell_type": "code",
   "execution_count": 17,
   "id": "d6fa6384",
   "metadata": {
    "execution": {
     "iopub.execute_input": "2022-12-14T05:39:49.923544Z",
     "iopub.status.busy": "2022-12-14T05:39:49.923128Z",
     "iopub.status.idle": "2022-12-14T05:39:49.957793Z",
     "shell.execute_reply": "2022-12-14T05:39:49.956539Z"
    },
    "papermill": {
     "duration": 0.057376,
     "end_time": "2022-12-14T05:39:49.960523",
     "exception": false,
     "start_time": "2022-12-14T05:39:49.903147",
     "status": "completed"
    },
    "tags": []
   },
   "outputs": [],
   "source": [
    "data['bhk']=data['size'].str.split().str.get(0).astype(int)"
   ]
  },
  {
   "cell_type": "code",
   "execution_count": 18,
   "id": "424db46d",
   "metadata": {
    "execution": {
     "iopub.execute_input": "2022-12-14T05:39:50.000225Z",
     "iopub.status.busy": "2022-12-14T05:39:49.999793Z",
     "iopub.status.idle": "2022-12-14T05:39:50.016495Z",
     "shell.execute_reply": "2022-12-14T05:39:50.015298Z"
    },
    "papermill": {
     "duration": 0.03874,
     "end_time": "2022-12-14T05:39:50.019336",
     "exception": false,
     "start_time": "2022-12-14T05:39:49.980596",
     "status": "completed"
    },
    "tags": []
   },
   "outputs": [
    {
     "data": {
      "text/html": [
       "<div>\n",
       "<style scoped>\n",
       "    .dataframe tbody tr th:only-of-type {\n",
       "        vertical-align: middle;\n",
       "    }\n",
       "\n",
       "    .dataframe tbody tr th {\n",
       "        vertical-align: top;\n",
       "    }\n",
       "\n",
       "    .dataframe thead th {\n",
       "        text-align: right;\n",
       "    }\n",
       "</style>\n",
       "<table border=\"1\" class=\"dataframe\">\n",
       "  <thead>\n",
       "    <tr style=\"text-align: right;\">\n",
       "      <th></th>\n",
       "      <th>location</th>\n",
       "      <th>size</th>\n",
       "      <th>total_sqft</th>\n",
       "      <th>bath</th>\n",
       "      <th>price</th>\n",
       "      <th>bhk</th>\n",
       "    </tr>\n",
       "  </thead>\n",
       "  <tbody>\n",
       "    <tr>\n",
       "      <th>1718</th>\n",
       "      <td>2Electronic City Phase II</td>\n",
       "      <td>27 BHK</td>\n",
       "      <td>8000</td>\n",
       "      <td>27.0</td>\n",
       "      <td>230.0</td>\n",
       "      <td>27</td>\n",
       "    </tr>\n",
       "    <tr>\n",
       "      <th>4684</th>\n",
       "      <td>Munnekollal</td>\n",
       "      <td>43 Bedroom</td>\n",
       "      <td>2400</td>\n",
       "      <td>40.0</td>\n",
       "      <td>660.0</td>\n",
       "      <td>43</td>\n",
       "    </tr>\n",
       "  </tbody>\n",
       "</table>\n",
       "</div>"
      ],
      "text/plain": [
       "                       location        size total_sqft  bath  price  bhk\n",
       "1718  2Electronic City Phase II      27 BHK       8000  27.0  230.0   27\n",
       "4684                Munnekollal  43 Bedroom       2400  40.0  660.0   43"
      ]
     },
     "execution_count": 18,
     "metadata": {},
     "output_type": "execute_result"
    }
   ],
   "source": [
    "data[data.bhk>20]"
   ]
  },
  {
   "cell_type": "code",
   "execution_count": 19,
   "id": "ac01118b",
   "metadata": {
    "execution": {
     "iopub.execute_input": "2022-12-14T05:39:50.060210Z",
     "iopub.status.busy": "2022-12-14T05:39:50.059763Z",
     "iopub.status.idle": "2022-12-14T05:39:50.071282Z",
     "shell.execute_reply": "2022-12-14T05:39:50.069749Z"
    },
    "papermill": {
     "duration": 0.035426,
     "end_time": "2022-12-14T05:39:50.073846",
     "exception": false,
     "start_time": "2022-12-14T05:39:50.038420",
     "status": "completed"
    },
    "tags": []
   },
   "outputs": [
    {
     "data": {
      "text/plain": [
       "array(['1056', '2600', '1440', ..., '1133 - 1384', '774', '4689'],\n",
       "      dtype=object)"
      ]
     },
     "execution_count": 19,
     "metadata": {},
     "output_type": "execute_result"
    }
   ],
   "source": [
    "data['total_sqft'].unique()"
   ]
  },
  {
   "cell_type": "code",
   "execution_count": 20,
   "id": "55646a76",
   "metadata": {
    "execution": {
     "iopub.execute_input": "2022-12-14T05:39:50.111757Z",
     "iopub.status.busy": "2022-12-14T05:39:50.111362Z",
     "iopub.status.idle": "2022-12-14T05:39:50.117646Z",
     "shell.execute_reply": "2022-12-14T05:39:50.115925Z"
    },
    "papermill": {
     "duration": 0.028024,
     "end_time": "2022-12-14T05:39:50.120390",
     "exception": false,
     "start_time": "2022-12-14T05:39:50.092366",
     "status": "completed"
    },
    "tags": []
   },
   "outputs": [],
   "source": [
    "def convertrange(x):\n",
    "    temp=x.split('-')\n",
    "    if len(temp)==2:\n",
    "        return (float(temp[0])+float(temp[1]))/2\n",
    "    try:\n",
    "        return float(x)\n",
    "    except:\n",
    "        return None"
   ]
  },
  {
   "cell_type": "code",
   "execution_count": 21,
   "id": "fc24ba34",
   "metadata": {
    "execution": {
     "iopub.execute_input": "2022-12-14T05:39:50.158886Z",
     "iopub.status.busy": "2022-12-14T05:39:50.158409Z",
     "iopub.status.idle": "2022-12-14T05:39:50.175701Z",
     "shell.execute_reply": "2022-12-14T05:39:50.174145Z"
    },
    "papermill": {
     "duration": 0.039865,
     "end_time": "2022-12-14T05:39:50.178529",
     "exception": false,
     "start_time": "2022-12-14T05:39:50.138664",
     "status": "completed"
    },
    "tags": []
   },
   "outputs": [],
   "source": [
    "data['total_sqft']=data['total_sqft'].apply(convertrange)"
   ]
  },
  {
   "cell_type": "code",
   "execution_count": 22,
   "id": "c88650fb",
   "metadata": {
    "execution": {
     "iopub.execute_input": "2022-12-14T05:39:50.217364Z",
     "iopub.status.busy": "2022-12-14T05:39:50.216907Z",
     "iopub.status.idle": "2022-12-14T05:39:50.232459Z",
     "shell.execute_reply": "2022-12-14T05:39:50.230732Z"
    },
    "papermill": {
     "duration": 0.03731,
     "end_time": "2022-12-14T05:39:50.234981",
     "exception": false,
     "start_time": "2022-12-14T05:39:50.197671",
     "status": "completed"
    },
    "tags": []
   },
   "outputs": [
    {
     "data": {
      "text/html": [
       "<div>\n",
       "<style scoped>\n",
       "    .dataframe tbody tr th:only-of-type {\n",
       "        vertical-align: middle;\n",
       "    }\n",
       "\n",
       "    .dataframe tbody tr th {\n",
       "        vertical-align: top;\n",
       "    }\n",
       "\n",
       "    .dataframe thead th {\n",
       "        text-align: right;\n",
       "    }\n",
       "</style>\n",
       "<table border=\"1\" class=\"dataframe\">\n",
       "  <thead>\n",
       "    <tr style=\"text-align: right;\">\n",
       "      <th></th>\n",
       "      <th>location</th>\n",
       "      <th>size</th>\n",
       "      <th>total_sqft</th>\n",
       "      <th>bath</th>\n",
       "      <th>price</th>\n",
       "      <th>bhk</th>\n",
       "    </tr>\n",
       "  </thead>\n",
       "  <tbody>\n",
       "    <tr>\n",
       "      <th>0</th>\n",
       "      <td>Electronic City Phase II</td>\n",
       "      <td>2 BHK</td>\n",
       "      <td>1056.0</td>\n",
       "      <td>2.0</td>\n",
       "      <td>39.07</td>\n",
       "      <td>2</td>\n",
       "    </tr>\n",
       "    <tr>\n",
       "      <th>1</th>\n",
       "      <td>Chikka Tirupathi</td>\n",
       "      <td>4 Bedroom</td>\n",
       "      <td>2600.0</td>\n",
       "      <td>5.0</td>\n",
       "      <td>120.00</td>\n",
       "      <td>4</td>\n",
       "    </tr>\n",
       "    <tr>\n",
       "      <th>2</th>\n",
       "      <td>Uttarahalli</td>\n",
       "      <td>3 BHK</td>\n",
       "      <td>1440.0</td>\n",
       "      <td>2.0</td>\n",
       "      <td>62.00</td>\n",
       "      <td>3</td>\n",
       "    </tr>\n",
       "    <tr>\n",
       "      <th>3</th>\n",
       "      <td>Lingadheeranahalli</td>\n",
       "      <td>3 BHK</td>\n",
       "      <td>1521.0</td>\n",
       "      <td>3.0</td>\n",
       "      <td>95.00</td>\n",
       "      <td>3</td>\n",
       "    </tr>\n",
       "    <tr>\n",
       "      <th>4</th>\n",
       "      <td>Kothanur</td>\n",
       "      <td>2 BHK</td>\n",
       "      <td>1200.0</td>\n",
       "      <td>2.0</td>\n",
       "      <td>51.00</td>\n",
       "      <td>2</td>\n",
       "    </tr>\n",
       "  </tbody>\n",
       "</table>\n",
       "</div>"
      ],
      "text/plain": [
       "                   location       size  total_sqft  bath   price  bhk\n",
       "0  Electronic City Phase II      2 BHK      1056.0   2.0   39.07    2\n",
       "1          Chikka Tirupathi  4 Bedroom      2600.0   5.0  120.00    4\n",
       "2               Uttarahalli      3 BHK      1440.0   2.0   62.00    3\n",
       "3        Lingadheeranahalli      3 BHK      1521.0   3.0   95.00    3\n",
       "4                  Kothanur      2 BHK      1200.0   2.0   51.00    2"
      ]
     },
     "execution_count": 22,
     "metadata": {},
     "output_type": "execute_result"
    }
   ],
   "source": [
    "data.head()"
   ]
  },
  {
   "cell_type": "code",
   "execution_count": 23,
   "id": "c642283d",
   "metadata": {
    "execution": {
     "iopub.execute_input": "2022-12-14T05:39:50.283871Z",
     "iopub.status.busy": "2022-12-14T05:39:50.283383Z",
     "iopub.status.idle": "2022-12-14T05:39:50.292111Z",
     "shell.execute_reply": "2022-12-14T05:39:50.290883Z"
    },
    "papermill": {
     "duration": 0.037039,
     "end_time": "2022-12-14T05:39:50.294700",
     "exception": false,
     "start_time": "2022-12-14T05:39:50.257661",
     "status": "completed"
    },
    "tags": []
   },
   "outputs": [],
   "source": [
    "data['price_per_sqrt']=data['price']*100000/data['total_sqft']"
   ]
  },
  {
   "cell_type": "code",
   "execution_count": 24,
   "id": "f5bb9eae",
   "metadata": {
    "execution": {
     "iopub.execute_input": "2022-12-14T05:39:50.338284Z",
     "iopub.status.busy": "2022-12-14T05:39:50.337715Z",
     "iopub.status.idle": "2022-12-14T05:39:50.348714Z",
     "shell.execute_reply": "2022-12-14T05:39:50.347239Z"
    },
    "papermill": {
     "duration": 0.03573,
     "end_time": "2022-12-14T05:39:50.351369",
     "exception": false,
     "start_time": "2022-12-14T05:39:50.315639",
     "status": "completed"
    },
    "tags": []
   },
   "outputs": [
    {
     "data": {
      "text/plain": [
       "0         3699.810606\n",
       "1         4615.384615\n",
       "2         4305.555556\n",
       "3         6245.890861\n",
       "4         4250.000000\n",
       "             ...     \n",
       "13315     6689.834926\n",
       "13316    11111.111111\n",
       "13317     5258.545136\n",
       "13318    10407.336319\n",
       "13319     3090.909091\n",
       "Name: price_per_sqrt, Length: 13320, dtype: float64"
      ]
     },
     "execution_count": 24,
     "metadata": {},
     "output_type": "execute_result"
    }
   ],
   "source": [
    "data['price_per_sqrt']"
   ]
  },
  {
   "cell_type": "code",
   "execution_count": 25,
   "id": "14a5e48a",
   "metadata": {
    "execution": {
     "iopub.execute_input": "2022-12-14T05:39:50.389399Z",
     "iopub.status.busy": "2022-12-14T05:39:50.388975Z",
     "iopub.status.idle": "2022-12-14T05:39:50.423997Z",
     "shell.execute_reply": "2022-12-14T05:39:50.422469Z"
    },
    "papermill": {
     "duration": 0.057708,
     "end_time": "2022-12-14T05:39:50.427029",
     "exception": false,
     "start_time": "2022-12-14T05:39:50.369321",
     "status": "completed"
    },
    "tags": []
   },
   "outputs": [
    {
     "data": {
      "text/html": [
       "<div>\n",
       "<style scoped>\n",
       "    .dataframe tbody tr th:only-of-type {\n",
       "        vertical-align: middle;\n",
       "    }\n",
       "\n",
       "    .dataframe tbody tr th {\n",
       "        vertical-align: top;\n",
       "    }\n",
       "\n",
       "    .dataframe thead th {\n",
       "        text-align: right;\n",
       "    }\n",
       "</style>\n",
       "<table border=\"1\" class=\"dataframe\">\n",
       "  <thead>\n",
       "    <tr style=\"text-align: right;\">\n",
       "      <th></th>\n",
       "      <th>total_sqft</th>\n",
       "      <th>bath</th>\n",
       "      <th>price</th>\n",
       "      <th>bhk</th>\n",
       "      <th>price_per_sqrt</th>\n",
       "    </tr>\n",
       "  </thead>\n",
       "  <tbody>\n",
       "    <tr>\n",
       "      <th>count</th>\n",
       "      <td>13274.000000</td>\n",
       "      <td>13320.000000</td>\n",
       "      <td>13320.000000</td>\n",
       "      <td>13320.000000</td>\n",
       "      <td>1.327400e+04</td>\n",
       "    </tr>\n",
       "    <tr>\n",
       "      <th>mean</th>\n",
       "      <td>1559.626694</td>\n",
       "      <td>2.688814</td>\n",
       "      <td>112.565627</td>\n",
       "      <td>2.802778</td>\n",
       "      <td>7.907501e+03</td>\n",
       "    </tr>\n",
       "    <tr>\n",
       "      <th>std</th>\n",
       "      <td>1238.405258</td>\n",
       "      <td>1.338754</td>\n",
       "      <td>148.971674</td>\n",
       "      <td>1.294496</td>\n",
       "      <td>1.064296e+05</td>\n",
       "    </tr>\n",
       "    <tr>\n",
       "      <th>min</th>\n",
       "      <td>1.000000</td>\n",
       "      <td>1.000000</td>\n",
       "      <td>8.000000</td>\n",
       "      <td>1.000000</td>\n",
       "      <td>2.678298e+02</td>\n",
       "    </tr>\n",
       "    <tr>\n",
       "      <th>25%</th>\n",
       "      <td>1100.000000</td>\n",
       "      <td>2.000000</td>\n",
       "      <td>50.000000</td>\n",
       "      <td>2.000000</td>\n",
       "      <td>4.266865e+03</td>\n",
       "    </tr>\n",
       "    <tr>\n",
       "      <th>50%</th>\n",
       "      <td>1276.000000</td>\n",
       "      <td>2.000000</td>\n",
       "      <td>72.000000</td>\n",
       "      <td>3.000000</td>\n",
       "      <td>5.434306e+03</td>\n",
       "    </tr>\n",
       "    <tr>\n",
       "      <th>75%</th>\n",
       "      <td>1680.000000</td>\n",
       "      <td>3.000000</td>\n",
       "      <td>120.000000</td>\n",
       "      <td>3.000000</td>\n",
       "      <td>7.311746e+03</td>\n",
       "    </tr>\n",
       "    <tr>\n",
       "      <th>max</th>\n",
       "      <td>52272.000000</td>\n",
       "      <td>40.000000</td>\n",
       "      <td>3600.000000</td>\n",
       "      <td>43.000000</td>\n",
       "      <td>1.200000e+07</td>\n",
       "    </tr>\n",
       "  </tbody>\n",
       "</table>\n",
       "</div>"
      ],
      "text/plain": [
       "         total_sqft          bath         price           bhk  price_per_sqrt\n",
       "count  13274.000000  13320.000000  13320.000000  13320.000000    1.327400e+04\n",
       "mean    1559.626694      2.688814    112.565627      2.802778    7.907501e+03\n",
       "std     1238.405258      1.338754    148.971674      1.294496    1.064296e+05\n",
       "min        1.000000      1.000000      8.000000      1.000000    2.678298e+02\n",
       "25%     1100.000000      2.000000     50.000000      2.000000    4.266865e+03\n",
       "50%     1276.000000      2.000000     72.000000      3.000000    5.434306e+03\n",
       "75%     1680.000000      3.000000    120.000000      3.000000    7.311746e+03\n",
       "max    52272.000000     40.000000   3600.000000     43.000000    1.200000e+07"
      ]
     },
     "execution_count": 25,
     "metadata": {},
     "output_type": "execute_result"
    }
   ],
   "source": [
    "data.describe()"
   ]
  },
  {
   "cell_type": "code",
   "execution_count": 26,
   "id": "759acacb",
   "metadata": {
    "execution": {
     "iopub.execute_input": "2022-12-14T05:39:50.466048Z",
     "iopub.status.busy": "2022-12-14T05:39:50.465594Z",
     "iopub.status.idle": "2022-12-14T05:39:50.477650Z",
     "shell.execute_reply": "2022-12-14T05:39:50.476000Z"
    },
    "papermill": {
     "duration": 0.035157,
     "end_time": "2022-12-14T05:39:50.480680",
     "exception": false,
     "start_time": "2022-12-14T05:39:50.445523",
     "status": "completed"
    },
    "tags": []
   },
   "outputs": [
    {
     "data": {
      "text/plain": [
       "Whitefield                        540\n",
       "Sarjapur  Road                    400\n",
       "Electronic City                   302\n",
       "Kanakpura Road                    273\n",
       "Thanisandra                       234\n",
       "                                 ... \n",
       "Bapuji Layout                       1\n",
       "1st Stage Radha Krishna Layout      1\n",
       "BEML Layout 5th stage               1\n",
       "singapura paradise                  1\n",
       "Abshot Layout                       1\n",
       "Name: location, Length: 1305, dtype: int64"
      ]
     },
     "execution_count": 26,
     "metadata": {},
     "output_type": "execute_result"
    }
   ],
   "source": [
    "data['location'].value_counts()"
   ]
  },
  {
   "cell_type": "code",
   "execution_count": 27,
   "id": "110cde15",
   "metadata": {
    "execution": {
     "iopub.execute_input": "2022-12-14T05:39:50.519454Z",
     "iopub.status.busy": "2022-12-14T05:39:50.519069Z",
     "iopub.status.idle": "2022-12-14T05:39:50.529900Z",
     "shell.execute_reply": "2022-12-14T05:39:50.528549Z"
    },
    "papermill": {
     "duration": 0.032944,
     "end_time": "2022-12-14T05:39:50.532373",
     "exception": false,
     "start_time": "2022-12-14T05:39:50.499429",
     "status": "completed"
    },
    "tags": []
   },
   "outputs": [],
   "source": [
    "data['location']=data['location'].apply(lambda x:x.strip())\n",
    "location_count = data['location'].value_counts()"
   ]
  },
  {
   "cell_type": "code",
   "execution_count": 28,
   "id": "29f01d01",
   "metadata": {
    "execution": {
     "iopub.execute_input": "2022-12-14T05:39:50.570451Z",
     "iopub.status.busy": "2022-12-14T05:39:50.570067Z",
     "iopub.status.idle": "2022-12-14T05:39:50.575720Z",
     "shell.execute_reply": "2022-12-14T05:39:50.574499Z"
    },
    "papermill": {
     "duration": 0.027992,
     "end_time": "2022-12-14T05:39:50.578410",
     "exception": false,
     "start_time": "2022-12-14T05:39:50.550418",
     "status": "completed"
    },
    "tags": []
   },
   "outputs": [],
   "source": [
    "location_count_less_10=location_count[location_count<=10]"
   ]
  },
  {
   "cell_type": "code",
   "execution_count": 29,
   "id": "6ac1f5e2",
   "metadata": {
    "execution": {
     "iopub.execute_input": "2022-12-14T05:39:50.617521Z",
     "iopub.status.busy": "2022-12-14T05:39:50.617116Z",
     "iopub.status.idle": "2022-12-14T05:39:50.627408Z",
     "shell.execute_reply": "2022-12-14T05:39:50.625640Z"
    },
    "papermill": {
     "duration": 0.032223,
     "end_time": "2022-12-14T05:39:50.629660",
     "exception": false,
     "start_time": "2022-12-14T05:39:50.597437",
     "status": "completed"
    },
    "tags": []
   },
   "outputs": [
    {
     "data": {
      "text/plain": [
       "Dairy Circle                      10\n",
       "Nagappa Reddy Layout              10\n",
       "Basapura                          10\n",
       "1st Block Koramangala             10\n",
       "Sector 1 HSR Layout               10\n",
       "                                  ..\n",
       "Bapuji Layout                      1\n",
       "1st Stage Radha Krishna Layout     1\n",
       "BEML Layout 5th stage              1\n",
       "singapura paradise                 1\n",
       "Abshot Layout                      1\n",
       "Name: location, Length: 1053, dtype: int64"
      ]
     },
     "execution_count": 29,
     "metadata": {},
     "output_type": "execute_result"
    }
   ],
   "source": [
    "location_count_less_10"
   ]
  },
  {
   "cell_type": "code",
   "execution_count": 30,
   "id": "06644ffd",
   "metadata": {
    "execution": {
     "iopub.execute_input": "2022-12-14T05:39:50.669835Z",
     "iopub.status.busy": "2022-12-14T05:39:50.669252Z",
     "iopub.status.idle": "2022-12-14T05:39:50.692684Z",
     "shell.execute_reply": "2022-12-14T05:39:50.690919Z"
    },
    "papermill": {
     "duration": 0.047487,
     "end_time": "2022-12-14T05:39:50.695527",
     "exception": false,
     "start_time": "2022-12-14T05:39:50.648040",
     "status": "completed"
    },
    "tags": []
   },
   "outputs": [],
   "source": [
    "data['location']=data['location'].apply(lambda x: 'other' if x in location_count_less_10 else x)"
   ]
  },
  {
   "cell_type": "code",
   "execution_count": 31,
   "id": "c4e6fc2f",
   "metadata": {
    "execution": {
     "iopub.execute_input": "2022-12-14T05:39:50.736657Z",
     "iopub.status.busy": "2022-12-14T05:39:50.736254Z",
     "iopub.status.idle": "2022-12-14T05:39:50.747762Z",
     "shell.execute_reply": "2022-12-14T05:39:50.745949Z"
    },
    "papermill": {
     "duration": 0.034954,
     "end_time": "2022-12-14T05:39:50.750846",
     "exception": false,
     "start_time": "2022-12-14T05:39:50.715892",
     "status": "completed"
    },
    "tags": []
   },
   "outputs": [
    {
     "data": {
      "text/plain": [
       "other                 2885\n",
       "Whitefield             541\n",
       "Sarjapur  Road         400\n",
       "Electronic City        304\n",
       "Kanakpura Road         273\n",
       "                      ... \n",
       "Nehru Nagar             11\n",
       "Banjara Layout          11\n",
       "LB Shastri Nagar        11\n",
       "Pattandur Agrahara      11\n",
       "Narayanapura            11\n",
       "Name: location, Length: 242, dtype: int64"
      ]
     },
     "execution_count": 31,
     "metadata": {},
     "output_type": "execute_result"
    }
   ],
   "source": [
    "data['location'].value_counts()"
   ]
  },
  {
   "cell_type": "markdown",
   "id": "5fedb493",
   "metadata": {
    "papermill": {
     "duration": 0.021,
     "end_time": "2022-12-14T05:39:50.792402",
     "exception": false,
     "start_time": "2022-12-14T05:39:50.771402",
     "status": "completed"
    },
    "tags": []
   },
   "source": [
    "### Outlier detection"
   ]
  },
  {
   "cell_type": "code",
   "execution_count": 32,
   "id": "c89d4ef6",
   "metadata": {
    "execution": {
     "iopub.execute_input": "2022-12-14T05:39:50.833515Z",
     "iopub.status.busy": "2022-12-14T05:39:50.833114Z",
     "iopub.status.idle": "2022-12-14T05:39:50.866898Z",
     "shell.execute_reply": "2022-12-14T05:39:50.865907Z"
    },
    "papermill": {
     "duration": 0.057102,
     "end_time": "2022-12-14T05:39:50.869533",
     "exception": false,
     "start_time": "2022-12-14T05:39:50.812431",
     "status": "completed"
    },
    "tags": []
   },
   "outputs": [
    {
     "data": {
      "text/html": [
       "<div>\n",
       "<style scoped>\n",
       "    .dataframe tbody tr th:only-of-type {\n",
       "        vertical-align: middle;\n",
       "    }\n",
       "\n",
       "    .dataframe tbody tr th {\n",
       "        vertical-align: top;\n",
       "    }\n",
       "\n",
       "    .dataframe thead th {\n",
       "        text-align: right;\n",
       "    }\n",
       "</style>\n",
       "<table border=\"1\" class=\"dataframe\">\n",
       "  <thead>\n",
       "    <tr style=\"text-align: right;\">\n",
       "      <th></th>\n",
       "      <th>total_sqft</th>\n",
       "      <th>bath</th>\n",
       "      <th>price</th>\n",
       "      <th>bhk</th>\n",
       "      <th>price_per_sqrt</th>\n",
       "    </tr>\n",
       "  </thead>\n",
       "  <tbody>\n",
       "    <tr>\n",
       "      <th>count</th>\n",
       "      <td>13274.000000</td>\n",
       "      <td>13320.000000</td>\n",
       "      <td>13320.000000</td>\n",
       "      <td>13320.000000</td>\n",
       "      <td>1.327400e+04</td>\n",
       "    </tr>\n",
       "    <tr>\n",
       "      <th>mean</th>\n",
       "      <td>1559.626694</td>\n",
       "      <td>2.688814</td>\n",
       "      <td>112.565627</td>\n",
       "      <td>2.802778</td>\n",
       "      <td>7.907501e+03</td>\n",
       "    </tr>\n",
       "    <tr>\n",
       "      <th>std</th>\n",
       "      <td>1238.405258</td>\n",
       "      <td>1.338754</td>\n",
       "      <td>148.971674</td>\n",
       "      <td>1.294496</td>\n",
       "      <td>1.064296e+05</td>\n",
       "    </tr>\n",
       "    <tr>\n",
       "      <th>min</th>\n",
       "      <td>1.000000</td>\n",
       "      <td>1.000000</td>\n",
       "      <td>8.000000</td>\n",
       "      <td>1.000000</td>\n",
       "      <td>2.678298e+02</td>\n",
       "    </tr>\n",
       "    <tr>\n",
       "      <th>25%</th>\n",
       "      <td>1100.000000</td>\n",
       "      <td>2.000000</td>\n",
       "      <td>50.000000</td>\n",
       "      <td>2.000000</td>\n",
       "      <td>4.266865e+03</td>\n",
       "    </tr>\n",
       "    <tr>\n",
       "      <th>50%</th>\n",
       "      <td>1276.000000</td>\n",
       "      <td>2.000000</td>\n",
       "      <td>72.000000</td>\n",
       "      <td>3.000000</td>\n",
       "      <td>5.434306e+03</td>\n",
       "    </tr>\n",
       "    <tr>\n",
       "      <th>75%</th>\n",
       "      <td>1680.000000</td>\n",
       "      <td>3.000000</td>\n",
       "      <td>120.000000</td>\n",
       "      <td>3.000000</td>\n",
       "      <td>7.311746e+03</td>\n",
       "    </tr>\n",
       "    <tr>\n",
       "      <th>max</th>\n",
       "      <td>52272.000000</td>\n",
       "      <td>40.000000</td>\n",
       "      <td>3600.000000</td>\n",
       "      <td>43.000000</td>\n",
       "      <td>1.200000e+07</td>\n",
       "    </tr>\n",
       "  </tbody>\n",
       "</table>\n",
       "</div>"
      ],
      "text/plain": [
       "         total_sqft          bath         price           bhk  price_per_sqrt\n",
       "count  13274.000000  13320.000000  13320.000000  13320.000000    1.327400e+04\n",
       "mean    1559.626694      2.688814    112.565627      2.802778    7.907501e+03\n",
       "std     1238.405258      1.338754    148.971674      1.294496    1.064296e+05\n",
       "min        1.000000      1.000000      8.000000      1.000000    2.678298e+02\n",
       "25%     1100.000000      2.000000     50.000000      2.000000    4.266865e+03\n",
       "50%     1276.000000      2.000000     72.000000      3.000000    5.434306e+03\n",
       "75%     1680.000000      3.000000    120.000000      3.000000    7.311746e+03\n",
       "max    52272.000000     40.000000   3600.000000     43.000000    1.200000e+07"
      ]
     },
     "execution_count": 32,
     "metadata": {},
     "output_type": "execute_result"
    }
   ],
   "source": [
    "data.describe()"
   ]
  },
  {
   "cell_type": "code",
   "execution_count": 33,
   "id": "3e7bbd9f",
   "metadata": {
    "execution": {
     "iopub.execute_input": "2022-12-14T05:39:50.909897Z",
     "iopub.status.busy": "2022-12-14T05:39:50.909461Z",
     "iopub.status.idle": "2022-12-14T05:39:50.921594Z",
     "shell.execute_reply": "2022-12-14T05:39:50.920438Z"
    },
    "papermill": {
     "duration": 0.035593,
     "end_time": "2022-12-14T05:39:50.923915",
     "exception": false,
     "start_time": "2022-12-14T05:39:50.888322",
     "status": "completed"
    },
    "tags": []
   },
   "outputs": [
    {
     "data": {
      "text/plain": [
       "count    13274.000000\n",
       "mean       575.074878\n",
       "std        388.205175\n",
       "min          0.250000\n",
       "25%        473.333333\n",
       "50%        552.500000\n",
       "75%        625.000000\n",
       "max      26136.000000\n",
       "dtype: float64"
      ]
     },
     "execution_count": 33,
     "metadata": {},
     "output_type": "execute_result"
    }
   ],
   "source": [
    "(data['total_sqft']/data['bhk']).describe()"
   ]
  },
  {
   "cell_type": "code",
   "execution_count": 34,
   "id": "3b0ce417",
   "metadata": {
    "execution": {
     "iopub.execute_input": "2022-12-14T05:39:50.965731Z",
     "iopub.status.busy": "2022-12-14T05:39:50.965298Z",
     "iopub.status.idle": "2022-12-14T05:39:50.975405Z",
     "shell.execute_reply": "2022-12-14T05:39:50.973923Z"
    },
    "papermill": {
     "duration": 0.034753,
     "end_time": "2022-12-14T05:39:50.978189",
     "exception": false,
     "start_time": "2022-12-14T05:39:50.943436",
     "status": "completed"
    },
    "tags": []
   },
   "outputs": [],
   "source": [
    "data=data[((data['total_sqft']/data['bhk'])>=300)]"
   ]
  },
  {
   "cell_type": "code",
   "execution_count": 35,
   "id": "13261f48",
   "metadata": {
    "execution": {
     "iopub.execute_input": "2022-12-14T05:39:51.018783Z",
     "iopub.status.busy": "2022-12-14T05:39:51.018396Z",
     "iopub.status.idle": "2022-12-14T05:39:51.052814Z",
     "shell.execute_reply": "2022-12-14T05:39:51.051169Z"
    },
    "papermill": {
     "duration": 0.057776,
     "end_time": "2022-12-14T05:39:51.055387",
     "exception": false,
     "start_time": "2022-12-14T05:39:50.997611",
     "status": "completed"
    },
    "tags": []
   },
   "outputs": [
    {
     "data": {
      "text/html": [
       "<div>\n",
       "<style scoped>\n",
       "    .dataframe tbody tr th:only-of-type {\n",
       "        vertical-align: middle;\n",
       "    }\n",
       "\n",
       "    .dataframe tbody tr th {\n",
       "        vertical-align: top;\n",
       "    }\n",
       "\n",
       "    .dataframe thead th {\n",
       "        text-align: right;\n",
       "    }\n",
       "</style>\n",
       "<table border=\"1\" class=\"dataframe\">\n",
       "  <thead>\n",
       "    <tr style=\"text-align: right;\">\n",
       "      <th></th>\n",
       "      <th>total_sqft</th>\n",
       "      <th>bath</th>\n",
       "      <th>price</th>\n",
       "      <th>bhk</th>\n",
       "      <th>price_per_sqrt</th>\n",
       "    </tr>\n",
       "  </thead>\n",
       "  <tbody>\n",
       "    <tr>\n",
       "      <th>count</th>\n",
       "      <td>12530.000000</td>\n",
       "      <td>12530.000000</td>\n",
       "      <td>12530.000000</td>\n",
       "      <td>12530.000000</td>\n",
       "      <td>12530.000000</td>\n",
       "    </tr>\n",
       "    <tr>\n",
       "      <th>mean</th>\n",
       "      <td>1594.564544</td>\n",
       "      <td>2.559537</td>\n",
       "      <td>111.382401</td>\n",
       "      <td>2.650838</td>\n",
       "      <td>6303.979357</td>\n",
       "    </tr>\n",
       "    <tr>\n",
       "      <th>std</th>\n",
       "      <td>1261.271296</td>\n",
       "      <td>1.077938</td>\n",
       "      <td>152.077329</td>\n",
       "      <td>0.976678</td>\n",
       "      <td>4162.237981</td>\n",
       "    </tr>\n",
       "    <tr>\n",
       "      <th>min</th>\n",
       "      <td>300.000000</td>\n",
       "      <td>1.000000</td>\n",
       "      <td>8.440000</td>\n",
       "      <td>1.000000</td>\n",
       "      <td>267.829813</td>\n",
       "    </tr>\n",
       "    <tr>\n",
       "      <th>25%</th>\n",
       "      <td>1116.000000</td>\n",
       "      <td>2.000000</td>\n",
       "      <td>49.000000</td>\n",
       "      <td>2.000000</td>\n",
       "      <td>4210.526316</td>\n",
       "    </tr>\n",
       "    <tr>\n",
       "      <th>50%</th>\n",
       "      <td>1300.000000</td>\n",
       "      <td>2.000000</td>\n",
       "      <td>70.000000</td>\n",
       "      <td>3.000000</td>\n",
       "      <td>5294.117647</td>\n",
       "    </tr>\n",
       "    <tr>\n",
       "      <th>75%</th>\n",
       "      <td>1700.000000</td>\n",
       "      <td>3.000000</td>\n",
       "      <td>115.000000</td>\n",
       "      <td>3.000000</td>\n",
       "      <td>6916.666667</td>\n",
       "    </tr>\n",
       "    <tr>\n",
       "      <th>max</th>\n",
       "      <td>52272.000000</td>\n",
       "      <td>16.000000</td>\n",
       "      <td>3600.000000</td>\n",
       "      <td>16.000000</td>\n",
       "      <td>176470.588235</td>\n",
       "    </tr>\n",
       "  </tbody>\n",
       "</table>\n",
       "</div>"
      ],
      "text/plain": [
       "         total_sqft          bath         price           bhk  price_per_sqrt\n",
       "count  12530.000000  12530.000000  12530.000000  12530.000000    12530.000000\n",
       "mean    1594.564544      2.559537    111.382401      2.650838     6303.979357\n",
       "std     1261.271296      1.077938    152.077329      0.976678     4162.237981\n",
       "min      300.000000      1.000000      8.440000      1.000000      267.829813\n",
       "25%     1116.000000      2.000000     49.000000      2.000000     4210.526316\n",
       "50%     1300.000000      2.000000     70.000000      3.000000     5294.117647\n",
       "75%     1700.000000      3.000000    115.000000      3.000000     6916.666667\n",
       "max    52272.000000     16.000000   3600.000000     16.000000   176470.588235"
      ]
     },
     "execution_count": 35,
     "metadata": {},
     "output_type": "execute_result"
    }
   ],
   "source": [
    "data.describe()"
   ]
  },
  {
   "cell_type": "code",
   "execution_count": 36,
   "id": "89e34593",
   "metadata": {
    "execution": {
     "iopub.execute_input": "2022-12-14T05:39:51.096980Z",
     "iopub.status.busy": "2022-12-14T05:39:51.096560Z",
     "iopub.status.idle": "2022-12-14T05:39:51.102202Z",
     "shell.execute_reply": "2022-12-14T05:39:51.101266Z"
    },
    "papermill": {
     "duration": 0.029346,
     "end_time": "2022-12-14T05:39:51.104832",
     "exception": false,
     "start_time": "2022-12-14T05:39:51.075486",
     "status": "completed"
    },
    "tags": []
   },
   "outputs": [
    {
     "data": {
      "text/plain": [
       "(12530, 7)"
      ]
     },
     "execution_count": 36,
     "metadata": {},
     "output_type": "execute_result"
    }
   ],
   "source": [
    "data.shape"
   ]
  },
  {
   "cell_type": "code",
   "execution_count": 37,
   "id": "2dbf7874",
   "metadata": {
    "execution": {
     "iopub.execute_input": "2022-12-14T05:39:51.148045Z",
     "iopub.status.busy": "2022-12-14T05:39:51.147359Z",
     "iopub.status.idle": "2022-12-14T05:39:51.749186Z",
     "shell.execute_reply": "2022-12-14T05:39:51.747288Z"
    },
    "papermill": {
     "duration": 0.626991,
     "end_time": "2022-12-14T05:39:51.752100",
     "exception": false,
     "start_time": "2022-12-14T05:39:51.125109",
     "status": "completed"
    },
    "tags": []
   },
   "outputs": [
    {
     "data": {
      "text/html": [
       "<div>\n",
       "<style scoped>\n",
       "    .dataframe tbody tr th:only-of-type {\n",
       "        vertical-align: middle;\n",
       "    }\n",
       "\n",
       "    .dataframe tbody tr th {\n",
       "        vertical-align: top;\n",
       "    }\n",
       "\n",
       "    .dataframe thead th {\n",
       "        text-align: right;\n",
       "    }\n",
       "</style>\n",
       "<table border=\"1\" class=\"dataframe\">\n",
       "  <thead>\n",
       "    <tr style=\"text-align: right;\">\n",
       "      <th></th>\n",
       "      <th>total_sqft</th>\n",
       "      <th>bath</th>\n",
       "      <th>price</th>\n",
       "      <th>bhk</th>\n",
       "      <th>price_per_sqrt</th>\n",
       "    </tr>\n",
       "  </thead>\n",
       "  <tbody>\n",
       "    <tr>\n",
       "      <th>count</th>\n",
       "      <td>10301.000000</td>\n",
       "      <td>10301.000000</td>\n",
       "      <td>10301.000000</td>\n",
       "      <td>10301.000000</td>\n",
       "      <td>10301.000000</td>\n",
       "    </tr>\n",
       "    <tr>\n",
       "      <th>mean</th>\n",
       "      <td>1508.440608</td>\n",
       "      <td>2.471702</td>\n",
       "      <td>91.286372</td>\n",
       "      <td>2.574896</td>\n",
       "      <td>5659.062876</td>\n",
       "    </tr>\n",
       "    <tr>\n",
       "      <th>std</th>\n",
       "      <td>880.694214</td>\n",
       "      <td>0.979449</td>\n",
       "      <td>86.342786</td>\n",
       "      <td>0.897649</td>\n",
       "      <td>2265.774749</td>\n",
       "    </tr>\n",
       "    <tr>\n",
       "      <th>min</th>\n",
       "      <td>300.000000</td>\n",
       "      <td>1.000000</td>\n",
       "      <td>10.000000</td>\n",
       "      <td>1.000000</td>\n",
       "      <td>1250.000000</td>\n",
       "    </tr>\n",
       "    <tr>\n",
       "      <th>25%</th>\n",
       "      <td>1110.000000</td>\n",
       "      <td>2.000000</td>\n",
       "      <td>49.000000</td>\n",
       "      <td>2.000000</td>\n",
       "      <td>4244.897959</td>\n",
       "    </tr>\n",
       "    <tr>\n",
       "      <th>50%</th>\n",
       "      <td>1286.000000</td>\n",
       "      <td>2.000000</td>\n",
       "      <td>67.000000</td>\n",
       "      <td>2.000000</td>\n",
       "      <td>5175.600739</td>\n",
       "    </tr>\n",
       "    <tr>\n",
       "      <th>75%</th>\n",
       "      <td>1650.000000</td>\n",
       "      <td>3.000000</td>\n",
       "      <td>100.000000</td>\n",
       "      <td>3.000000</td>\n",
       "      <td>6428.571429</td>\n",
       "    </tr>\n",
       "    <tr>\n",
       "      <th>max</th>\n",
       "      <td>30400.000000</td>\n",
       "      <td>16.000000</td>\n",
       "      <td>2200.000000</td>\n",
       "      <td>16.000000</td>\n",
       "      <td>24509.803922</td>\n",
       "    </tr>\n",
       "  </tbody>\n",
       "</table>\n",
       "</div>"
      ],
      "text/plain": [
       "         total_sqft          bath         price           bhk  price_per_sqrt\n",
       "count  10301.000000  10301.000000  10301.000000  10301.000000    10301.000000\n",
       "mean    1508.440608      2.471702     91.286372      2.574896     5659.062876\n",
       "std      880.694214      0.979449     86.342786      0.897649     2265.774749\n",
       "min      300.000000      1.000000     10.000000      1.000000     1250.000000\n",
       "25%     1110.000000      2.000000     49.000000      2.000000     4244.897959\n",
       "50%     1286.000000      2.000000     67.000000      2.000000     5175.600739\n",
       "75%     1650.000000      3.000000    100.000000      3.000000     6428.571429\n",
       "max    30400.000000     16.000000   2200.000000     16.000000    24509.803922"
      ]
     },
     "execution_count": 37,
     "metadata": {},
     "output_type": "execute_result"
    }
   ],
   "source": [
    "def remove_outliers_sqft(df):\n",
    "    df_output = pd.DataFrame()\n",
    "    for key, subdf in df.groupby('location'):\n",
    "        m = np.mean(subdf.price_per_sqrt)\n",
    "        st = np.std(subdf.price_per_sqrt)\n",
    "        gen_df = subdf[(subdf.price_per_sqrt>(m-st))&(subdf.price_per_sqrt<=(m+st))]\n",
    "        df_output=pd.concat([df_output, gen_df], ignore_index=True)\n",
    "    return df_output\n",
    "data=remove_outliers_sqft(data)\n",
    "data.describe()"
   ]
  },
  {
   "cell_type": "code",
   "execution_count": 38,
   "id": "91a5ef58",
   "metadata": {
    "execution": {
     "iopub.execute_input": "2022-12-14T05:39:51.794299Z",
     "iopub.status.busy": "2022-12-14T05:39:51.793591Z",
     "iopub.status.idle": "2022-12-14T05:39:51.802625Z",
     "shell.execute_reply": "2022-12-14T05:39:51.801050Z"
    },
    "papermill": {
     "duration": 0.033113,
     "end_time": "2022-12-14T05:39:51.805529",
     "exception": false,
     "start_time": "2022-12-14T05:39:51.772416",
     "status": "completed"
    },
    "tags": []
   },
   "outputs": [],
   "source": [
    "def bhk_outlier_remove(df):\n",
    "    exclude_indices=np.array([])\n",
    "    for location, location_df in df.groupby('location'):\n",
    "        bhk_stats = {}\n",
    "        for bhk, bhk_df in location_df.groupby('bhk'):\n",
    "            bhk_stats[bhk]={\n",
    "                'mean':np.mean(bhk_df.price_per_sqrt),\n",
    "                'std':np.std(bhk_df.price_per_sqrt),\n",
    "                'count':bhk_df.shape[0]\n",
    "            }\n",
    "            \n",
    "        for bhk, bhk_df in location_df.groupby('bhk'):\n",
    "            stats=bhk_stats.get(bhk-1)\n",
    "            if stats and stats['count']>5:\n",
    "                exclude_indices=np.append(exclude_indices, bhk_df[bhk_df.price_per_sqrt<(stats['mean'])].index.values)\n",
    "    return df.drop(exclude_indices, axis='index')           "
   ]
  },
  {
   "cell_type": "code",
   "execution_count": 39,
   "id": "a308eef4",
   "metadata": {
    "execution": {
     "iopub.execute_input": "2022-12-14T05:39:51.846968Z",
     "iopub.status.busy": "2022-12-14T05:39:51.846562Z",
     "iopub.status.idle": "2022-12-14T05:39:52.635381Z",
     "shell.execute_reply": "2022-12-14T05:39:52.633698Z"
    },
    "papermill": {
     "duration": 0.813106,
     "end_time": "2022-12-14T05:39:52.638155",
     "exception": false,
     "start_time": "2022-12-14T05:39:51.825049",
     "status": "completed"
    },
    "tags": []
   },
   "outputs": [],
   "source": [
    "data=bhk_outlier_remove(data)"
   ]
  },
  {
   "cell_type": "code",
   "execution_count": 40,
   "id": "0c6dcf88",
   "metadata": {
    "execution": {
     "iopub.execute_input": "2022-12-14T05:39:52.682627Z",
     "iopub.status.busy": "2022-12-14T05:39:52.682154Z",
     "iopub.status.idle": "2022-12-14T05:39:52.702688Z",
     "shell.execute_reply": "2022-12-14T05:39:52.701550Z"
    },
    "papermill": {
     "duration": 0.046893,
     "end_time": "2022-12-14T05:39:52.705445",
     "exception": false,
     "start_time": "2022-12-14T05:39:52.658552",
     "status": "completed"
    },
    "tags": []
   },
   "outputs": [
    {
     "data": {
      "text/html": [
       "<div>\n",
       "<style scoped>\n",
       "    .dataframe tbody tr th:only-of-type {\n",
       "        vertical-align: middle;\n",
       "    }\n",
       "\n",
       "    .dataframe tbody tr th {\n",
       "        vertical-align: top;\n",
       "    }\n",
       "\n",
       "    .dataframe thead th {\n",
       "        text-align: right;\n",
       "    }\n",
       "</style>\n",
       "<table border=\"1\" class=\"dataframe\">\n",
       "  <thead>\n",
       "    <tr style=\"text-align: right;\">\n",
       "      <th></th>\n",
       "      <th>location</th>\n",
       "      <th>size</th>\n",
       "      <th>total_sqft</th>\n",
       "      <th>bath</th>\n",
       "      <th>price</th>\n",
       "      <th>bhk</th>\n",
       "      <th>price_per_sqrt</th>\n",
       "    </tr>\n",
       "  </thead>\n",
       "  <tbody>\n",
       "    <tr>\n",
       "      <th>0</th>\n",
       "      <td>1st Block Jayanagar</td>\n",
       "      <td>4 BHK</td>\n",
       "      <td>2850.0</td>\n",
       "      <td>4.0</td>\n",
       "      <td>428.0</td>\n",
       "      <td>4</td>\n",
       "      <td>15017.543860</td>\n",
       "    </tr>\n",
       "    <tr>\n",
       "      <th>1</th>\n",
       "      <td>1st Block Jayanagar</td>\n",
       "      <td>3 BHK</td>\n",
       "      <td>1630.0</td>\n",
       "      <td>3.0</td>\n",
       "      <td>194.0</td>\n",
       "      <td>3</td>\n",
       "      <td>11901.840491</td>\n",
       "    </tr>\n",
       "    <tr>\n",
       "      <th>2</th>\n",
       "      <td>1st Block Jayanagar</td>\n",
       "      <td>3 BHK</td>\n",
       "      <td>1875.0</td>\n",
       "      <td>2.0</td>\n",
       "      <td>235.0</td>\n",
       "      <td>3</td>\n",
       "      <td>12533.333333</td>\n",
       "    </tr>\n",
       "    <tr>\n",
       "      <th>3</th>\n",
       "      <td>1st Block Jayanagar</td>\n",
       "      <td>3 BHK</td>\n",
       "      <td>1200.0</td>\n",
       "      <td>2.0</td>\n",
       "      <td>130.0</td>\n",
       "      <td>3</td>\n",
       "      <td>10833.333333</td>\n",
       "    </tr>\n",
       "    <tr>\n",
       "      <th>4</th>\n",
       "      <td>1st Block Jayanagar</td>\n",
       "      <td>2 BHK</td>\n",
       "      <td>1235.0</td>\n",
       "      <td>2.0</td>\n",
       "      <td>148.0</td>\n",
       "      <td>2</td>\n",
       "      <td>11983.805668</td>\n",
       "    </tr>\n",
       "    <tr>\n",
       "      <th>...</th>\n",
       "      <td>...</td>\n",
       "      <td>...</td>\n",
       "      <td>...</td>\n",
       "      <td>...</td>\n",
       "      <td>...</td>\n",
       "      <td>...</td>\n",
       "      <td>...</td>\n",
       "    </tr>\n",
       "    <tr>\n",
       "      <th>10292</th>\n",
       "      <td>other</td>\n",
       "      <td>2 BHK</td>\n",
       "      <td>1200.0</td>\n",
       "      <td>2.0</td>\n",
       "      <td>70.0</td>\n",
       "      <td>2</td>\n",
       "      <td>5833.333333</td>\n",
       "    </tr>\n",
       "    <tr>\n",
       "      <th>10293</th>\n",
       "      <td>other</td>\n",
       "      <td>1 BHK</td>\n",
       "      <td>1800.0</td>\n",
       "      <td>1.0</td>\n",
       "      <td>200.0</td>\n",
       "      <td>1</td>\n",
       "      <td>11111.111111</td>\n",
       "    </tr>\n",
       "    <tr>\n",
       "      <th>10296</th>\n",
       "      <td>other</td>\n",
       "      <td>2 BHK</td>\n",
       "      <td>1353.0</td>\n",
       "      <td>2.0</td>\n",
       "      <td>110.0</td>\n",
       "      <td>2</td>\n",
       "      <td>8130.081301</td>\n",
       "    </tr>\n",
       "    <tr>\n",
       "      <th>10297</th>\n",
       "      <td>other</td>\n",
       "      <td>1 Bedroom</td>\n",
       "      <td>812.0</td>\n",
       "      <td>1.0</td>\n",
       "      <td>26.0</td>\n",
       "      <td>1</td>\n",
       "      <td>3201.970443</td>\n",
       "    </tr>\n",
       "    <tr>\n",
       "      <th>10300</th>\n",
       "      <td>other</td>\n",
       "      <td>4 BHK</td>\n",
       "      <td>3600.0</td>\n",
       "      <td>5.0</td>\n",
       "      <td>400.0</td>\n",
       "      <td>4</td>\n",
       "      <td>11111.111111</td>\n",
       "    </tr>\n",
       "  </tbody>\n",
       "</table>\n",
       "<p>7360 rows × 7 columns</p>\n",
       "</div>"
      ],
      "text/plain": [
       "                  location       size  total_sqft  bath  price  bhk  \\\n",
       "0      1st Block Jayanagar      4 BHK      2850.0   4.0  428.0    4   \n",
       "1      1st Block Jayanagar      3 BHK      1630.0   3.0  194.0    3   \n",
       "2      1st Block Jayanagar      3 BHK      1875.0   2.0  235.0    3   \n",
       "3      1st Block Jayanagar      3 BHK      1200.0   2.0  130.0    3   \n",
       "4      1st Block Jayanagar      2 BHK      1235.0   2.0  148.0    2   \n",
       "...                    ...        ...         ...   ...    ...  ...   \n",
       "10292                other      2 BHK      1200.0   2.0   70.0    2   \n",
       "10293                other      1 BHK      1800.0   1.0  200.0    1   \n",
       "10296                other      2 BHK      1353.0   2.0  110.0    2   \n",
       "10297                other  1 Bedroom       812.0   1.0   26.0    1   \n",
       "10300                other      4 BHK      3600.0   5.0  400.0    4   \n",
       "\n",
       "       price_per_sqrt  \n",
       "0        15017.543860  \n",
       "1        11901.840491  \n",
       "2        12533.333333  \n",
       "3        10833.333333  \n",
       "4        11983.805668  \n",
       "...               ...  \n",
       "10292     5833.333333  \n",
       "10293    11111.111111  \n",
       "10296     8130.081301  \n",
       "10297     3201.970443  \n",
       "10300    11111.111111  \n",
       "\n",
       "[7360 rows x 7 columns]"
      ]
     },
     "execution_count": 40,
     "metadata": {},
     "output_type": "execute_result"
    }
   ],
   "source": [
    "data"
   ]
  },
  {
   "cell_type": "code",
   "execution_count": 41,
   "id": "e9525431",
   "metadata": {
    "execution": {
     "iopub.execute_input": "2022-12-14T05:39:52.749821Z",
     "iopub.status.busy": "2022-12-14T05:39:52.749000Z",
     "iopub.status.idle": "2022-12-14T05:39:52.756392Z",
     "shell.execute_reply": "2022-12-14T05:39:52.755161Z"
    },
    "papermill": {
     "duration": 0.033301,
     "end_time": "2022-12-14T05:39:52.758821",
     "exception": false,
     "start_time": "2022-12-14T05:39:52.725520",
     "status": "completed"
    },
    "tags": []
   },
   "outputs": [
    {
     "data": {
      "text/plain": [
       "(7360, 7)"
      ]
     },
     "execution_count": 41,
     "metadata": {},
     "output_type": "execute_result"
    }
   ],
   "source": [
    "data.shape"
   ]
  },
  {
   "cell_type": "code",
   "execution_count": 42,
   "id": "f68bce32",
   "metadata": {
    "execution": {
     "iopub.execute_input": "2022-12-14T05:39:52.804809Z",
     "iopub.status.busy": "2022-12-14T05:39:52.804139Z",
     "iopub.status.idle": "2022-12-14T05:39:52.810543Z",
     "shell.execute_reply": "2022-12-14T05:39:52.809671Z"
    },
    "papermill": {
     "duration": 0.033013,
     "end_time": "2022-12-14T05:39:52.813817",
     "exception": false,
     "start_time": "2022-12-14T05:39:52.780804",
     "status": "completed"
    },
    "tags": []
   },
   "outputs": [],
   "source": [
    "data.drop(columns=['size', 'price_per_sqrt'], inplace=True)"
   ]
  },
  {
   "cell_type": "code",
   "execution_count": 43,
   "id": "55e6aaa3",
   "metadata": {
    "execution": {
     "iopub.execute_input": "2022-12-14T05:39:52.857971Z",
     "iopub.status.busy": "2022-12-14T05:39:52.857308Z",
     "iopub.status.idle": "2022-12-14T05:39:52.871272Z",
     "shell.execute_reply": "2022-12-14T05:39:52.870049Z"
    },
    "papermill": {
     "duration": 0.040003,
     "end_time": "2022-12-14T05:39:52.873873",
     "exception": false,
     "start_time": "2022-12-14T05:39:52.833870",
     "status": "completed"
    },
    "tags": []
   },
   "outputs": [
    {
     "data": {
      "text/html": [
       "<div>\n",
       "<style scoped>\n",
       "    .dataframe tbody tr th:only-of-type {\n",
       "        vertical-align: middle;\n",
       "    }\n",
       "\n",
       "    .dataframe tbody tr th {\n",
       "        vertical-align: top;\n",
       "    }\n",
       "\n",
       "    .dataframe thead th {\n",
       "        text-align: right;\n",
       "    }\n",
       "</style>\n",
       "<table border=\"1\" class=\"dataframe\">\n",
       "  <thead>\n",
       "    <tr style=\"text-align: right;\">\n",
       "      <th></th>\n",
       "      <th>location</th>\n",
       "      <th>total_sqft</th>\n",
       "      <th>bath</th>\n",
       "      <th>price</th>\n",
       "      <th>bhk</th>\n",
       "    </tr>\n",
       "  </thead>\n",
       "  <tbody>\n",
       "    <tr>\n",
       "      <th>0</th>\n",
       "      <td>1st Block Jayanagar</td>\n",
       "      <td>2850.0</td>\n",
       "      <td>4.0</td>\n",
       "      <td>428.0</td>\n",
       "      <td>4</td>\n",
       "    </tr>\n",
       "    <tr>\n",
       "      <th>1</th>\n",
       "      <td>1st Block Jayanagar</td>\n",
       "      <td>1630.0</td>\n",
       "      <td>3.0</td>\n",
       "      <td>194.0</td>\n",
       "      <td>3</td>\n",
       "    </tr>\n",
       "    <tr>\n",
       "      <th>2</th>\n",
       "      <td>1st Block Jayanagar</td>\n",
       "      <td>1875.0</td>\n",
       "      <td>2.0</td>\n",
       "      <td>235.0</td>\n",
       "      <td>3</td>\n",
       "    </tr>\n",
       "    <tr>\n",
       "      <th>3</th>\n",
       "      <td>1st Block Jayanagar</td>\n",
       "      <td>1200.0</td>\n",
       "      <td>2.0</td>\n",
       "      <td>130.0</td>\n",
       "      <td>3</td>\n",
       "    </tr>\n",
       "    <tr>\n",
       "      <th>4</th>\n",
       "      <td>1st Block Jayanagar</td>\n",
       "      <td>1235.0</td>\n",
       "      <td>2.0</td>\n",
       "      <td>148.0</td>\n",
       "      <td>2</td>\n",
       "    </tr>\n",
       "  </tbody>\n",
       "</table>\n",
       "</div>"
      ],
      "text/plain": [
       "              location  total_sqft  bath  price  bhk\n",
       "0  1st Block Jayanagar      2850.0   4.0  428.0    4\n",
       "1  1st Block Jayanagar      1630.0   3.0  194.0    3\n",
       "2  1st Block Jayanagar      1875.0   2.0  235.0    3\n",
       "3  1st Block Jayanagar      1200.0   2.0  130.0    3\n",
       "4  1st Block Jayanagar      1235.0   2.0  148.0    2"
      ]
     },
     "execution_count": 43,
     "metadata": {},
     "output_type": "execute_result"
    }
   ],
   "source": [
    "data.head()"
   ]
  },
  {
   "cell_type": "code",
   "execution_count": 44,
   "id": "9f7e1a68",
   "metadata": {
    "execution": {
     "iopub.execute_input": "2022-12-14T05:39:52.917054Z",
     "iopub.status.busy": "2022-12-14T05:39:52.916617Z",
     "iopub.status.idle": "2022-12-14T05:39:52.953090Z",
     "shell.execute_reply": "2022-12-14T05:39:52.951801Z"
    },
    "papermill": {
     "duration": 0.061706,
     "end_time": "2022-12-14T05:39:52.955798",
     "exception": false,
     "start_time": "2022-12-14T05:39:52.894092",
     "status": "completed"
    },
    "tags": []
   },
   "outputs": [],
   "source": [
    "data.to_csv('Cleaned_data.csv')"
   ]
  },
  {
   "cell_type": "code",
   "execution_count": 45,
   "id": "23378d14",
   "metadata": {
    "execution": {
     "iopub.execute_input": "2022-12-14T05:39:53.001710Z",
     "iopub.status.busy": "2022-12-14T05:39:53.001288Z",
     "iopub.status.idle": "2022-12-14T05:39:53.009626Z",
     "shell.execute_reply": "2022-12-14T05:39:53.008029Z"
    },
    "papermill": {
     "duration": 0.036222,
     "end_time": "2022-12-14T05:39:53.012751",
     "exception": false,
     "start_time": "2022-12-14T05:39:52.976529",
     "status": "completed"
    },
    "tags": []
   },
   "outputs": [],
   "source": [
    "X = data.drop(columns=['price'])"
   ]
  },
  {
   "cell_type": "code",
   "execution_count": 46,
   "id": "246feb4e",
   "metadata": {
    "execution": {
     "iopub.execute_input": "2022-12-14T05:39:53.058436Z",
     "iopub.status.busy": "2022-12-14T05:39:53.058010Z",
     "iopub.status.idle": "2022-12-14T05:39:53.063928Z",
     "shell.execute_reply": "2022-12-14T05:39:53.062453Z"
    },
    "papermill": {
     "duration": 0.032071,
     "end_time": "2022-12-14T05:39:53.067401",
     "exception": false,
     "start_time": "2022-12-14T05:39:53.035330",
     "status": "completed"
    },
    "tags": []
   },
   "outputs": [],
   "source": [
    "y = data['price']"
   ]
  },
  {
   "cell_type": "code",
   "execution_count": 47,
   "id": "4bfb9469",
   "metadata": {
    "execution": {
     "iopub.execute_input": "2022-12-14T05:39:53.111829Z",
     "iopub.status.busy": "2022-12-14T05:39:53.111181Z",
     "iopub.status.idle": "2022-12-14T05:39:54.374856Z",
     "shell.execute_reply": "2022-12-14T05:39:54.373322Z"
    },
    "papermill": {
     "duration": 1.290092,
     "end_time": "2022-12-14T05:39:54.377990",
     "exception": false,
     "start_time": "2022-12-14T05:39:53.087898",
     "status": "completed"
    },
    "tags": []
   },
   "outputs": [],
   "source": [
    "from sklearn.model_selection import train_test_split\n",
    "from sklearn.linear_model import LinearRegression, Lasso, Ridge\n",
    "from sklearn.preprocessing import OneHotEncoder, StandardScaler\n",
    "from sklearn.compose import make_column_transformer\n",
    "from sklearn.pipeline import make_pipeline\n",
    "from sklearn.metrics import r2_score"
   ]
  },
  {
   "cell_type": "code",
   "execution_count": 48,
   "id": "7a2f54ce",
   "metadata": {
    "execution": {
     "iopub.execute_input": "2022-12-14T05:39:54.422225Z",
     "iopub.status.busy": "2022-12-14T05:39:54.421768Z",
     "iopub.status.idle": "2022-12-14T05:39:54.432068Z",
     "shell.execute_reply": "2022-12-14T05:39:54.431092Z"
    },
    "papermill": {
     "duration": 0.03628,
     "end_time": "2022-12-14T05:39:54.435480",
     "exception": false,
     "start_time": "2022-12-14T05:39:54.399200",
     "status": "completed"
    },
    "tags": []
   },
   "outputs": [],
   "source": [
    "X_train, X_test, y_train, y_test = train_test_split(X, y, test_size=0.2, random_state=3)"
   ]
  },
  {
   "cell_type": "code",
   "execution_count": 49,
   "id": "d5906208",
   "metadata": {
    "execution": {
     "iopub.execute_input": "2022-12-14T05:39:54.484161Z",
     "iopub.status.busy": "2022-12-14T05:39:54.483735Z",
     "iopub.status.idle": "2022-12-14T05:39:54.490583Z",
     "shell.execute_reply": "2022-12-14T05:39:54.489376Z"
    },
    "papermill": {
     "duration": 0.035203,
     "end_time": "2022-12-14T05:39:54.493815",
     "exception": false,
     "start_time": "2022-12-14T05:39:54.458612",
     "status": "completed"
    },
    "tags": []
   },
   "outputs": [
    {
     "data": {
      "text/plain": [
       "(5888, 4)"
      ]
     },
     "execution_count": 49,
     "metadata": {},
     "output_type": "execute_result"
    }
   ],
   "source": [
    "X_train.shape"
   ]
  },
  {
   "cell_type": "code",
   "execution_count": 50,
   "id": "5105bd99",
   "metadata": {
    "execution": {
     "iopub.execute_input": "2022-12-14T05:39:54.538616Z",
     "iopub.status.busy": "2022-12-14T05:39:54.538229Z",
     "iopub.status.idle": "2022-12-14T05:39:54.545326Z",
     "shell.execute_reply": "2022-12-14T05:39:54.544110Z"
    },
    "papermill": {
     "duration": 0.033536,
     "end_time": "2022-12-14T05:39:54.547809",
     "exception": false,
     "start_time": "2022-12-14T05:39:54.514273",
     "status": "completed"
    },
    "tags": []
   },
   "outputs": [
    {
     "data": {
      "text/plain": [
       "(1472, 4)"
      ]
     },
     "execution_count": 50,
     "metadata": {},
     "output_type": "execute_result"
    }
   ],
   "source": [
    "X_test.shape"
   ]
  },
  {
   "cell_type": "markdown",
   "id": "dca7badc",
   "metadata": {
    "papermill": {
     "duration": 0.022759,
     "end_time": "2022-12-14T05:39:54.591713",
     "exception": false,
     "start_time": "2022-12-14T05:39:54.568954",
     "status": "completed"
    },
    "tags": []
   },
   "source": [
    "### Building Model using Linear Regression"
   ]
  },
  {
   "cell_type": "code",
   "execution_count": 51,
   "id": "cf207559",
   "metadata": {
    "execution": {
     "iopub.execute_input": "2022-12-14T05:39:54.637465Z",
     "iopub.status.busy": "2022-12-14T05:39:54.636728Z",
     "iopub.status.idle": "2022-12-14T05:39:54.642377Z",
     "shell.execute_reply": "2022-12-14T05:39:54.641460Z"
    },
    "papermill": {
     "duration": 0.030693,
     "end_time": "2022-12-14T05:39:54.644899",
     "exception": false,
     "start_time": "2022-12-14T05:39:54.614206",
     "status": "completed"
    },
    "tags": []
   },
   "outputs": [],
   "source": [
    "column_trans = make_column_transformer((OneHotEncoder(sparse=False), ['location']), remainder='passthrough')"
   ]
  },
  {
   "cell_type": "code",
   "execution_count": 52,
   "id": "c7396e9e",
   "metadata": {
    "execution": {
     "iopub.execute_input": "2022-12-14T05:39:54.689163Z",
     "iopub.status.busy": "2022-12-14T05:39:54.688476Z",
     "iopub.status.idle": "2022-12-14T05:39:54.693442Z",
     "shell.execute_reply": "2022-12-14T05:39:54.692545Z"
    },
    "papermill": {
     "duration": 0.030618,
     "end_time": "2022-12-14T05:39:54.696801",
     "exception": false,
     "start_time": "2022-12-14T05:39:54.666183",
     "status": "completed"
    },
    "tags": []
   },
   "outputs": [],
   "source": [
    "scaler = StandardScaler()\n"
   ]
  },
  {
   "cell_type": "code",
   "execution_count": 53,
   "id": "f935db0d",
   "metadata": {
    "execution": {
     "iopub.execute_input": "2022-12-14T05:39:54.739191Z",
     "iopub.status.busy": "2022-12-14T05:39:54.738776Z",
     "iopub.status.idle": "2022-12-14T05:39:54.743427Z",
     "shell.execute_reply": "2022-12-14T05:39:54.742250Z"
    },
    "papermill": {
     "duration": 0.028711,
     "end_time": "2022-12-14T05:39:54.745730",
     "exception": false,
     "start_time": "2022-12-14T05:39:54.717019",
     "status": "completed"
    },
    "tags": []
   },
   "outputs": [],
   "source": [
    "lr = LinearRegression(normalize=True)"
   ]
  },
  {
   "cell_type": "code",
   "execution_count": 54,
   "id": "ea0aa8a7",
   "metadata": {
    "execution": {
     "iopub.execute_input": "2022-12-14T05:39:54.790882Z",
     "iopub.status.busy": "2022-12-14T05:39:54.790184Z",
     "iopub.status.idle": "2022-12-14T05:39:54.796411Z",
     "shell.execute_reply": "2022-12-14T05:39:54.794687Z"
    },
    "papermill": {
     "duration": 0.030668,
     "end_time": "2022-12-14T05:39:54.799173",
     "exception": false,
     "start_time": "2022-12-14T05:39:54.768505",
     "status": "completed"
    },
    "tags": []
   },
   "outputs": [],
   "source": [
    "pipe = make_pipeline(column_trans, scaler, lr)"
   ]
  },
  {
   "cell_type": "code",
   "execution_count": 55,
   "id": "4e58e4ab",
   "metadata": {
    "execution": {
     "iopub.execute_input": "2022-12-14T05:39:54.843290Z",
     "iopub.status.busy": "2022-12-14T05:39:54.842715Z",
     "iopub.status.idle": "2022-12-14T05:39:55.053712Z",
     "shell.execute_reply": "2022-12-14T05:39:55.051422Z"
    },
    "papermill": {
     "duration": 0.238102,
     "end_time": "2022-12-14T05:39:55.057903",
     "exception": false,
     "start_time": "2022-12-14T05:39:54.819801",
     "status": "completed"
    },
    "tags": []
   },
   "outputs": [
    {
     "name": "stderr",
     "output_type": "stream",
     "text": [
      "/opt/conda/lib/python3.7/site-packages/sklearn/linear_model/_base.py:145: FutureWarning: 'normalize' was deprecated in version 1.0 and will be removed in 1.2.\n",
      "If you wish to scale the data, use Pipeline with a StandardScaler in a preprocessing stage. To reproduce the previous behavior:\n",
      "\n",
      "from sklearn.pipeline import make_pipeline\n",
      "\n",
      "model = make_pipeline(StandardScaler(with_mean=False), LinearRegression())\n",
      "\n",
      "If you wish to pass a sample_weight parameter, you need to pass it as a fit parameter to each step of the pipeline as follows:\n",
      "\n",
      "kwargs = {s[0] + '__sample_weight': sample_weight for s in model.steps}\n",
      "model.fit(X, y, **kwargs)\n",
      "\n",
      "\n",
      "  FutureWarning,\n"
     ]
    },
    {
     "data": {
      "text/plain": [
       "Pipeline(steps=[('columntransformer',\n",
       "                 ColumnTransformer(remainder='passthrough',\n",
       "                                   transformers=[('onehotencoder',\n",
       "                                                  OneHotEncoder(sparse=False),\n",
       "                                                  ['location'])])),\n",
       "                ('standardscaler', StandardScaler()),\n",
       "                ('linearregression', LinearRegression(normalize=True))])"
      ]
     },
     "execution_count": 55,
     "metadata": {},
     "output_type": "execute_result"
    }
   ],
   "source": [
    "pipe.fit(X_train, y_train)"
   ]
  },
  {
   "cell_type": "code",
   "execution_count": 56,
   "id": "2a3c0d1a",
   "metadata": {
    "execution": {
     "iopub.execute_input": "2022-12-14T05:39:55.130169Z",
     "iopub.status.busy": "2022-12-14T05:39:55.128371Z",
     "iopub.status.idle": "2022-12-14T05:39:55.159932Z",
     "shell.execute_reply": "2022-12-14T05:39:55.158732Z"
    },
    "papermill": {
     "duration": 0.072332,
     "end_time": "2022-12-14T05:39:55.164220",
     "exception": false,
     "start_time": "2022-12-14T05:39:55.091888",
     "status": "completed"
    },
    "tags": []
   },
   "outputs": [],
   "source": [
    "y_pred_lr = pipe.predict(X_test)"
   ]
  },
  {
   "cell_type": "code",
   "execution_count": 57,
   "id": "94e4d712",
   "metadata": {
    "execution": {
     "iopub.execute_input": "2022-12-14T05:39:55.238975Z",
     "iopub.status.busy": "2022-12-14T05:39:55.238394Z",
     "iopub.status.idle": "2022-12-14T05:39:55.253108Z",
     "shell.execute_reply": "2022-12-14T05:39:55.251777Z"
    },
    "papermill": {
     "duration": 0.053928,
     "end_time": "2022-12-14T05:39:55.257537",
     "exception": false,
     "start_time": "2022-12-14T05:39:55.203609",
     "status": "completed"
    },
    "tags": []
   },
   "outputs": [
    {
     "data": {
      "text/plain": [
       "0.8019567224265891"
      ]
     },
     "execution_count": 57,
     "metadata": {},
     "output_type": "execute_result"
    }
   ],
   "source": [
    "r2_score(y_test, y_pred_lr)"
   ]
  },
  {
   "cell_type": "markdown",
   "id": "6557882c",
   "metadata": {
    "papermill": {
     "duration": 0.021047,
     "end_time": "2022-12-14T05:39:55.304995",
     "exception": false,
     "start_time": "2022-12-14T05:39:55.283948",
     "status": "completed"
    },
    "tags": []
   },
   "source": [
    "### Applying Lasso"
   ]
  },
  {
   "cell_type": "code",
   "execution_count": 58,
   "id": "16a3beb6",
   "metadata": {
    "execution": {
     "iopub.execute_input": "2022-12-14T05:39:55.350937Z",
     "iopub.status.busy": "2022-12-14T05:39:55.350529Z",
     "iopub.status.idle": "2022-12-14T05:39:55.355554Z",
     "shell.execute_reply": "2022-12-14T05:39:55.354627Z"
    },
    "papermill": {
     "duration": 0.030525,
     "end_time": "2022-12-14T05:39:55.357882",
     "exception": false,
     "start_time": "2022-12-14T05:39:55.327357",
     "status": "completed"
    },
    "tags": []
   },
   "outputs": [],
   "source": [
    "lasso = Lasso()"
   ]
  },
  {
   "cell_type": "code",
   "execution_count": 59,
   "id": "8c203f11",
   "metadata": {
    "execution": {
     "iopub.execute_input": "2022-12-14T05:39:55.402153Z",
     "iopub.status.busy": "2022-12-14T05:39:55.401703Z",
     "iopub.status.idle": "2022-12-14T05:39:55.407412Z",
     "shell.execute_reply": "2022-12-14T05:39:55.405898Z"
    },
    "papermill": {
     "duration": 0.030804,
     "end_time": "2022-12-14T05:39:55.409983",
     "exception": false,
     "start_time": "2022-12-14T05:39:55.379179",
     "status": "completed"
    },
    "tags": []
   },
   "outputs": [],
   "source": [
    "pipe = make_pipeline(column_trans, scaler, lasso)"
   ]
  },
  {
   "cell_type": "code",
   "execution_count": 60,
   "id": "3d7f0c93",
   "metadata": {
    "execution": {
     "iopub.execute_input": "2022-12-14T05:39:55.454179Z",
     "iopub.status.busy": "2022-12-14T05:39:55.453797Z",
     "iopub.status.idle": "2022-12-14T05:39:55.549015Z",
     "shell.execute_reply": "2022-12-14T05:39:55.547554Z"
    },
    "papermill": {
     "duration": 0.120517,
     "end_time": "2022-12-14T05:39:55.552627",
     "exception": false,
     "start_time": "2022-12-14T05:39:55.432110",
     "status": "completed"
    },
    "tags": []
   },
   "outputs": [
    {
     "data": {
      "text/plain": [
       "Pipeline(steps=[('columntransformer',\n",
       "                 ColumnTransformer(remainder='passthrough',\n",
       "                                   transformers=[('onehotencoder',\n",
       "                                                  OneHotEncoder(sparse=False),\n",
       "                                                  ['location'])])),\n",
       "                ('standardscaler', StandardScaler()), ('lasso', Lasso())])"
      ]
     },
     "execution_count": 60,
     "metadata": {},
     "output_type": "execute_result"
    }
   ],
   "source": [
    "pipe.fit(X_train, y_train)"
   ]
  },
  {
   "cell_type": "code",
   "execution_count": 61,
   "id": "05d5aee3",
   "metadata": {
    "execution": {
     "iopub.execute_input": "2022-12-14T05:39:55.625413Z",
     "iopub.status.busy": "2022-12-14T05:39:55.624718Z",
     "iopub.status.idle": "2022-12-14T05:39:55.662495Z",
     "shell.execute_reply": "2022-12-14T05:39:55.661221Z"
    },
    "papermill": {
     "duration": 0.07837,
     "end_time": "2022-12-14T05:39:55.666066",
     "exception": false,
     "start_time": "2022-12-14T05:39:55.587696",
     "status": "completed"
    },
    "tags": []
   },
   "outputs": [],
   "source": [
    "y_pred_lasso = pipe.predict(X_test)"
   ]
  },
  {
   "cell_type": "code",
   "execution_count": 62,
   "id": "cd51f63b",
   "metadata": {
    "execution": {
     "iopub.execute_input": "2022-12-14T05:39:55.735210Z",
     "iopub.status.busy": "2022-12-14T05:39:55.734557Z",
     "iopub.status.idle": "2022-12-14T05:39:55.746806Z",
     "shell.execute_reply": "2022-12-14T05:39:55.745540Z"
    },
    "papermill": {
     "duration": 0.051261,
     "end_time": "2022-12-14T05:39:55.750801",
     "exception": false,
     "start_time": "2022-12-14T05:39:55.699540",
     "status": "completed"
    },
    "tags": []
   },
   "outputs": [
    {
     "data": {
      "text/plain": [
       "0.7901481511894175"
      ]
     },
     "execution_count": 62,
     "metadata": {},
     "output_type": "execute_result"
    }
   ],
   "source": [
    "r2_score(y_test, y_pred_lasso)"
   ]
  },
  {
   "cell_type": "markdown",
   "id": "44342ad7",
   "metadata": {
    "papermill": {
     "duration": 0.020278,
     "end_time": "2022-12-14T05:39:55.800951",
     "exception": false,
     "start_time": "2022-12-14T05:39:55.780673",
     "status": "completed"
    },
    "tags": []
   },
   "source": [
    "### Applying Ridge"
   ]
  },
  {
   "cell_type": "code",
   "execution_count": 63,
   "id": "904ced72",
   "metadata": {
    "execution": {
     "iopub.execute_input": "2022-12-14T05:39:55.843968Z",
     "iopub.status.busy": "2022-12-14T05:39:55.843569Z",
     "iopub.status.idle": "2022-12-14T05:39:55.848606Z",
     "shell.execute_reply": "2022-12-14T05:39:55.847292Z"
    },
    "papermill": {
     "duration": 0.029505,
     "end_time": "2022-12-14T05:39:55.851123",
     "exception": false,
     "start_time": "2022-12-14T05:39:55.821618",
     "status": "completed"
    },
    "tags": []
   },
   "outputs": [],
   "source": [
    "ridge = Ridge()"
   ]
  },
  {
   "cell_type": "code",
   "execution_count": 64,
   "id": "bae842a6",
   "metadata": {
    "execution": {
     "iopub.execute_input": "2022-12-14T05:39:55.896612Z",
     "iopub.status.busy": "2022-12-14T05:39:55.896199Z",
     "iopub.status.idle": "2022-12-14T05:39:55.901235Z",
     "shell.execute_reply": "2022-12-14T05:39:55.900002Z"
    },
    "papermill": {
     "duration": 0.030412,
     "end_time": "2022-12-14T05:39:55.903607",
     "exception": false,
     "start_time": "2022-12-14T05:39:55.873195",
     "status": "completed"
    },
    "tags": []
   },
   "outputs": [],
   "source": [
    "pipe = make_pipeline(column_trans, scaler, ridge)"
   ]
  },
  {
   "cell_type": "code",
   "execution_count": 65,
   "id": "85f518f0",
   "metadata": {
    "execution": {
     "iopub.execute_input": "2022-12-14T05:39:55.947845Z",
     "iopub.status.busy": "2022-12-14T05:39:55.947064Z",
     "iopub.status.idle": "2022-12-14T05:39:56.035270Z",
     "shell.execute_reply": "2022-12-14T05:39:56.034027Z"
    },
    "papermill": {
     "duration": 0.113831,
     "end_time": "2022-12-14T05:39:56.038517",
     "exception": false,
     "start_time": "2022-12-14T05:39:55.924686",
     "status": "completed"
    },
    "tags": []
   },
   "outputs": [
    {
     "data": {
      "text/plain": [
       "Pipeline(steps=[('columntransformer',\n",
       "                 ColumnTransformer(remainder='passthrough',\n",
       "                                   transformers=[('onehotencoder',\n",
       "                                                  OneHotEncoder(sparse=False),\n",
       "                                                  ['location'])])),\n",
       "                ('standardscaler', StandardScaler()), ('ridge', Ridge())])"
      ]
     },
     "execution_count": 65,
     "metadata": {},
     "output_type": "execute_result"
    }
   ],
   "source": [
    "pipe.fit(X_train, y_train)"
   ]
  },
  {
   "cell_type": "code",
   "execution_count": 66,
   "id": "8f4d37e8",
   "metadata": {
    "execution": {
     "iopub.execute_input": "2022-12-14T05:39:56.150174Z",
     "iopub.status.busy": "2022-12-14T05:39:56.149753Z",
     "iopub.status.idle": "2022-12-14T05:39:56.170692Z",
     "shell.execute_reply": "2022-12-14T05:39:56.169392Z"
    },
    "papermill": {
     "duration": 0.075459,
     "end_time": "2022-12-14T05:39:56.174685",
     "exception": false,
     "start_time": "2022-12-14T05:39:56.099226",
     "status": "completed"
    },
    "tags": []
   },
   "outputs": [],
   "source": [
    "y_pred_ridge = pipe.predict(X_test)"
   ]
  },
  {
   "cell_type": "code",
   "execution_count": 67,
   "id": "1a3b6cf4",
   "metadata": {
    "execution": {
     "iopub.execute_input": "2022-12-14T05:39:56.244323Z",
     "iopub.status.busy": "2022-12-14T05:39:56.243753Z",
     "iopub.status.idle": "2022-12-14T05:39:56.259211Z",
     "shell.execute_reply": "2022-12-14T05:39:56.257752Z"
    },
    "papermill": {
     "duration": 0.054744,
     "end_time": "2022-12-14T05:39:56.263119",
     "exception": false,
     "start_time": "2022-12-14T05:39:56.208375",
     "status": "completed"
    },
    "tags": []
   },
   "outputs": [
    {
     "data": {
      "text/plain": [
       "0.8018774222146575"
      ]
     },
     "execution_count": 67,
     "metadata": {},
     "output_type": "execute_result"
    }
   ],
   "source": [
    "r2_score(y_test, y_pred_ridge)"
   ]
  },
  {
   "cell_type": "code",
   "execution_count": 68,
   "id": "73116659",
   "metadata": {
    "execution": {
     "iopub.execute_input": "2022-12-14T05:39:56.316661Z",
     "iopub.status.busy": "2022-12-14T05:39:56.316152Z",
     "iopub.status.idle": "2022-12-14T05:39:56.325413Z",
     "shell.execute_reply": "2022-12-14T05:39:56.324051Z"
    },
    "papermill": {
     "duration": 0.03496,
     "end_time": "2022-12-14T05:39:56.329151",
     "exception": false,
     "start_time": "2022-12-14T05:39:56.294191",
     "status": "completed"
    },
    "tags": []
   },
   "outputs": [
    {
     "name": "stdout",
     "output_type": "stream",
     "text": [
      "No Regularization :  0.8019567224265891\n",
      "Lasso Regularization :  0.7901481511894175\n",
      "Ridge Regularization :  0.8018774222146575\n"
     ]
    }
   ],
   "source": [
    "print('No Regularization : ', r2_score(y_test, y_pred_lr))\n",
    "print('Lasso Regularization : ', r2_score(y_test, y_pred_lasso))\n",
    "print('Ridge Regularization : ', r2_score(y_test, y_pred_ridge))"
   ]
  },
  {
   "cell_type": "code",
   "execution_count": null,
   "id": "2e9431ca",
   "metadata": {
    "papermill": {
     "duration": 0.020861,
     "end_time": "2022-12-14T05:39:56.372324",
     "exception": false,
     "start_time": "2022-12-14T05:39:56.351463",
     "status": "completed"
    },
    "tags": []
   },
   "outputs": [],
   "source": []
  }
 ],
 "metadata": {
  "kernelspec": {
   "display_name": "Python 3",
   "language": "python",
   "name": "python3"
  },
  "language_info": {
   "codemirror_mode": {
    "name": "ipython",
    "version": 3
   },
   "file_extension": ".py",
   "mimetype": "text/x-python",
   "name": "python",
   "nbconvert_exporter": "python",
   "pygments_lexer": "ipython3",
   "version": "3.7.12"
  },
  "papermill": {
   "default_parameters": {},
   "duration": 18.053692,
   "end_time": "2022-12-14T05:39:57.215775",
   "environment_variables": {},
   "exception": null,
   "input_path": "__notebook__.ipynb",
   "output_path": "__notebook__.ipynb",
   "parameters": {},
   "start_time": "2022-12-14T05:39:39.162083",
   "version": "2.3.4"
  }
 },
 "nbformat": 4,
 "nbformat_minor": 5
}
